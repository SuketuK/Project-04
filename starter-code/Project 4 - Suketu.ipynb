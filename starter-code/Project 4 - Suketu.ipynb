{
 "cells": [
  {
   "cell_type": "markdown",
   "metadata": {
    "focus": false,
    "id": "69b9a648-bcc7-490d-9f9b-ea244d156bd6"
   },
   "source": [
    "# Web Scraping for Indeed.com & Predicting Salaries"
   ]
  },
  {
   "cell_type": "markdown",
   "metadata": {},
   "source": [
    "## Domain and Data\n",
    "\n",
    "Job posting data is given from Indeed site after scrapping the data from the website. The data file has job title, location summary and salary information. The majority of the data is pertaining to data scientist role from Indeed.\n"
   ]
  },
  {
   "cell_type": "markdown",
   "metadata": {},
   "source": [
    "## Problem Statement\n",
    "\n",
    "To predict a binary variable - whether the salary was low or high. We will compute the median salary and create a new binary variable that is true when the salary is high (above the median).\n",
    "\n",
    "We can perform Linear Regression (or any regression) to predict the salary value here. Instead, we are going to convert this into a _binary_ classification problem, by predicting two classes, HIGH vs LOW salary.\n",
    "\n",
    "We will leverage location, title and skills information given. Determine if the salary is low or high and run a logistic regression model. "
   ]
  },
  {
   "cell_type": "markdown",
   "metadata": {},
   "source": [
    "## Metric\n",
    "Baseline Accuracy, R2 (coefficient of determination), Metrics accuracy score"
   ]
  },
  {
   "cell_type": "code",
   "execution_count": 169,
   "metadata": {
    "collapsed": true,
    "focus": false,
    "id": "2efefc73-064a-482d-b3b5-ddf5508cb4ec"
   },
   "outputs": [],
   "source": [
    "import requests\n",
    "import bs4\n",
    "from bs4 import BeautifulSoup\n",
    "import pandas as pd"
   ]
  },
  {
   "cell_type": "code",
   "execution_count": 170,
   "metadata": {
    "collapsed": false,
    "focus": false,
    "id": "2c6752c4-7704-4c94-8bc0-6f13d2d0d570"
   },
   "outputs": [
    {
     "data": {
      "text/html": [
       "<div>\n",
       "<table border=\"1\" class=\"dataframe\">\n",
       "  <thead>\n",
       "    <tr style=\"text-align: right;\">\n",
       "      <th></th>\n",
       "      <th>city</th>\n",
       "      <th>company</th>\n",
       "      <th>salary</th>\n",
       "      <th>summary</th>\n",
       "      <th>title</th>\n",
       "      <th>parsed_salary</th>\n",
       "    </tr>\n",
       "  </thead>\n",
       "  <tbody>\n",
       "    <tr>\n",
       "      <th>0</th>\n",
       "      <td>Denver</td>\n",
       "      <td>Department Of The Interior</td>\n",
       "      <td>$76,341 - $99,243 a year</td>\n",
       "      <td>Would you like to join the more than 10,000 sc...</td>\n",
       "      <td>Statistician, GS-1350-12 (DEU-PERM-DS)</td>\n",
       "      <td>87792.0</td>\n",
       "    </tr>\n",
       "    <tr>\n",
       "      <th>1</th>\n",
       "      <td>Denver</td>\n",
       "      <td>Department Of The Interior</td>\n",
       "      <td>$71,012 - $99,243 a year</td>\n",
       "      <td>Investigate potential uses of geospatial data ...</td>\n",
       "      <td>Interdisciplinary Cartographer/Geographer - GS...</td>\n",
       "      <td>85127.5</td>\n",
       "    </tr>\n",
       "    <tr>\n",
       "      <th>2</th>\n",
       "      <td>Denver</td>\n",
       "      <td>Mental Health Center of Denver</td>\n",
       "      <td>$70,000 - $80,000 a year</td>\n",
       "      <td>Advise the Data Developer with regard to creat...</td>\n",
       "      <td>Financial Data Scientist</td>\n",
       "      <td>75000.0</td>\n",
       "    </tr>\n",
       "    <tr>\n",
       "      <th>3</th>\n",
       "      <td>Denver</td>\n",
       "      <td>Denver Public Schools</td>\n",
       "      <td>$62,712 - $75,255 a year</td>\n",
       "      <td>Portal managers on student outcome data report...</td>\n",
       "      <td>SENIOR RESEARCH ANALYST</td>\n",
       "      <td>68983.5</td>\n",
       "    </tr>\n",
       "    <tr>\n",
       "      <th>4</th>\n",
       "      <td>Denver</td>\n",
       "      <td>University of Colorado</td>\n",
       "      <td>$25,000 - $29,000 a year</td>\n",
       "      <td>Experience entering and manipulating data in a...</td>\n",
       "      <td>Animal Care I</td>\n",
       "      <td>27000.0</td>\n",
       "    </tr>\n",
       "  </tbody>\n",
       "</table>\n",
       "</div>"
      ],
      "text/plain": [
       "     city                         company                    salary  \\\n",
       "0  Denver      Department Of The Interior  $76,341 - $99,243 a year   \n",
       "1  Denver      Department Of The Interior  $71,012 - $99,243 a year   \n",
       "2  Denver  Mental Health Center of Denver  $70,000 - $80,000 a year   \n",
       "3  Denver           Denver Public Schools  $62,712 - $75,255 a year   \n",
       "4  Denver          University of Colorado  $25,000 - $29,000 a year   \n",
       "\n",
       "                                             summary  \\\n",
       "0  Would you like to join the more than 10,000 sc...   \n",
       "1  Investigate potential uses of geospatial data ...   \n",
       "2  Advise the Data Developer with regard to creat...   \n",
       "3  Portal managers on student outcome data report...   \n",
       "4  Experience entering and manipulating data in a...   \n",
       "\n",
       "                                               title  parsed_salary  \n",
       "0             Statistician, GS-1350-12 (DEU-PERM-DS)        87792.0  \n",
       "1  Interdisciplinary Cartographer/Geographer - GS...        85127.5  \n",
       "2                           Financial Data Scientist        75000.0  \n",
       "3                            SENIOR RESEARCH ANALYST        68983.5  \n",
       "4                                      Animal Care I        27000.0  "
      ]
     },
     "execution_count": 170,
     "metadata": {},
     "output_type": "execute_result"
    }
   ],
   "source": [
    "file_location = \"../assets/indeed-scraped-job-postings.csv\"\n",
    "df_job_posting = pd.read_csv(file_location)\n",
    "df_job_posting.head(5)"
   ]
  },
  {
   "cell_type": "markdown",
   "metadata": {},
   "source": [
    "### Clean data"
   ]
  },
  {
   "cell_type": "markdown",
   "metadata": {},
   "source": [
    "This data file has key information as salary, summary, location, parsed_salary. \n",
    "\n",
    "1. **`Parsed_salary`** have  7 observations with null value and hence they are dropped.\n",
    "\n",
    "2. **`City`** column have + as character in some cities and they are replaced with a space.\n",
    "\n",
    "3. **`Parsed_salary`** seems computed based on salary column and it appears to be mean for the range shown.\n"
   ]
  },
  {
   "cell_type": "code",
   "execution_count": 171,
   "metadata": {
    "collapsed": false
   },
   "outputs": [
    {
     "name": "stdout",
     "output_type": "stream",
     "text": [
      "<class 'pandas.core.frame.DataFrame'>\n",
      "RangeIndex: 413 entries, 0 to 412\n",
      "Data columns (total 6 columns):\n",
      "city             413 non-null object\n",
      "company          413 non-null object\n",
      "salary           413 non-null object\n",
      "summary          413 non-null object\n",
      "title            413 non-null object\n",
      "parsed_salary    406 non-null float64\n",
      "dtypes: float64(1), object(5)\n",
      "memory usage: 19.4+ KB\n"
     ]
    }
   ],
   "source": [
    "df_job_posting.info()"
   ]
  },
  {
   "cell_type": "code",
   "execution_count": 172,
   "metadata": {
    "collapsed": false
   },
   "outputs": [
    {
     "data": {
      "text/plain": [
       "(413, 6)"
      ]
     },
     "execution_count": 172,
     "metadata": {},
     "output_type": "execute_result"
    }
   ],
   "source": [
    "df_job_posting.shape"
   ]
  },
  {
   "cell_type": "code",
   "execution_count": 173,
   "metadata": {
    "collapsed": false
   },
   "outputs": [],
   "source": [
    "# since there are only seven observations with null values in salary we will remove those observations\n",
    "df_job_posting[df_job_posting['parsed_salary'].isnull()] ## 7 values are missing\n",
    "df_job_posting.dropna(axis=0, inplace=True)\n",
    "\n",
    "#df_job_posting[df_job_posting['title'].isnull()] ## no rows with title as null\n",
    "#df_job_posting[df_job_posting['city'].isnull()] ## no rows with city as null\n",
    "#df_job_posting[df_job_posting['summary'].isnull()] ## no rows with summary as null\n",
    "\n",
    "df_job_posting[\"clean_city\"] = df_job_posting[\"city\"].str.replace(\"+\",\" \")\n"
   ]
  },
  {
   "cell_type": "markdown",
   "metadata": {},
   "source": [
    "## Exploratory Data Analysis and Visualization"
   ]
  },
  {
   "cell_type": "code",
   "execution_count": 174,
   "metadata": {
    "collapsed": false
   },
   "outputs": [],
   "source": [
    "import numpy as np\n",
    "import matplotlib.pyplot as plt\n",
    "%matplotlib inline\n",
    "import seaborn as sns"
   ]
  },
  {
   "cell_type": "markdown",
   "metadata": {
    "collapsed": false
   },
   "source": [
    "1. Describe the parsed_salary and review descriptive statistics\n",
    "2. Calculate or Get **median salary** and create a variable `salary_flag` that lables 0 for parsed_salary lower then median salary and label 1 for salary higher or equal than median salary.\n",
    "3. Get the statistics on title and city columns.\n",
    "4. Plot a bar graph on Salary for each city to quickly review the range for each city.\n",
    "5. Plot a histogram and review the distribution and shape of the bell curve and identify outliers.\n",
    "6. Plot a bubble chart to see where the highest number of jobs exists in the given city/location.\n",
    "\n",
    "7. Utilize Describe, Groupby, Pivot Table, Seaborn and Tablau for visualization.\n",
    "8. sns.Barplot,sns.distplot, Tablau bubble chart, Group by \n"
   ]
  },
  {
   "cell_type": "code",
   "execution_count": 175,
   "metadata": {
    "collapsed": false
   },
   "outputs": [
    {
     "data": {
      "text/plain": [
       "count       406.000000\n",
       "mean     107762.695813\n",
       "std       48931.367632\n",
       "min       10000.000000\n",
       "25%       70000.000000\n",
       "50%      100000.000000\n",
       "75%      142164.500000\n",
       "max      300000.000000\n",
       "Name: parsed_salary, dtype: float64"
      ]
     },
     "execution_count": 175,
     "metadata": {},
     "output_type": "execute_result"
    }
   ],
   "source": [
    "df_job_posting['parsed_salary'].describe()"
   ]
  },
  {
   "cell_type": "code",
   "execution_count": 176,
   "metadata": {
    "collapsed": false
   },
   "outputs": [
    {
     "data": {
      "text/plain": [
       "100000.0"
      ]
     },
     "execution_count": 176,
     "metadata": {},
     "output_type": "execute_result"
    }
   ],
   "source": [
    "np.median(df_job_posting['parsed_salary'])"
   ]
  },
  {
   "cell_type": "code",
   "execution_count": 177,
   "metadata": {
    "collapsed": false,
    "scrolled": true
   },
   "outputs": [
    {
     "data": {
      "text/html": [
       "<div>\n",
       "<table border=\"1\" class=\"dataframe\">\n",
       "  <thead>\n",
       "    <tr style=\"text-align: right;\">\n",
       "      <th></th>\n",
       "      <th>city</th>\n",
       "      <th>title</th>\n",
       "    </tr>\n",
       "  </thead>\n",
       "  <tbody>\n",
       "    <tr>\n",
       "      <th>count</th>\n",
       "      <td>406</td>\n",
       "      <td>406</td>\n",
       "    </tr>\n",
       "    <tr>\n",
       "      <th>unique</th>\n",
       "      <td>18</td>\n",
       "      <td>332</td>\n",
       "    </tr>\n",
       "    <tr>\n",
       "      <th>top</th>\n",
       "      <td>New+York</td>\n",
       "      <td>Data Scientist</td>\n",
       "    </tr>\n",
       "    <tr>\n",
       "      <th>freq</th>\n",
       "      <td>102</td>\n",
       "      <td>23</td>\n",
       "    </tr>\n",
       "  </tbody>\n",
       "</table>\n",
       "</div>"
      ],
      "text/plain": [
       "            city           title\n",
       "count        406             406\n",
       "unique        18             332\n",
       "top     New+York  Data Scientist\n",
       "freq         102              23"
      ]
     },
     "execution_count": 177,
     "metadata": {},
     "output_type": "execute_result"
    }
   ],
   "source": [
    "df_job_posting[['city','title']].describe()"
   ]
  },
  {
   "cell_type": "code",
   "execution_count": 178,
   "metadata": {
    "collapsed": false
   },
   "outputs": [
    {
     "data": {
      "text/plain": [
       "<matplotlib.axes._subplots.AxesSubplot at 0x7f7507477bd0>"
      ]
     },
     "execution_count": 178,
     "metadata": {},
     "output_type": "execute_result"
    },
    {
     "data": {
      "image/png": "[encoded data removed]",
      "text/plain": [
       "<matplotlib.figure.Figure at 0x7f7507434850>"
      ]
     },
     "metadata": {},
     "output_type": "display_data"
    }
   ],
   "source": [
    "fig = plt.figure(figsize=(20,6)) \n",
    "sns.barplot(x=\"city\",y=\"parsed_salary\",data=df_job_posting,label=\"City\")"
   ]
  },
  {
   "cell_type": "code",
   "execution_count": 179,
   "metadata": {
    "collapsed": false
   },
   "outputs": [
    {
     "data": {
      "text/html": [
       "<div>\n",
       "<table border=\"1\" class=\"dataframe\">\n",
       "  <thead>\n",
       "    <tr style=\"text-align: right;\">\n",
       "      <th></th>\n",
       "      <th>parsed_salary</th>\n",
       "    </tr>\n",
       "    <tr>\n",
       "      <th>city</th>\n",
       "      <th></th>\n",
       "    </tr>\n",
       "  </thead>\n",
       "  <tbody>\n",
       "    <tr>\n",
       "      <th>Atlanta</th>\n",
       "      <td>1620311.5</td>\n",
       "    </tr>\n",
       "    <tr>\n",
       "      <th>Austin</th>\n",
       "      <td>676000.0</td>\n",
       "    </tr>\n",
       "    <tr>\n",
       "      <th>Boston</th>\n",
       "      <td>5481887.5</td>\n",
       "    </tr>\n",
       "    <tr>\n",
       "      <th>Chicago</th>\n",
       "      <td>4044631.5</td>\n",
       "    </tr>\n",
       "    <tr>\n",
       "      <th>Dallas</th>\n",
       "      <td>1175500.0</td>\n",
       "    </tr>\n",
       "    <tr>\n",
       "      <th>Denver</th>\n",
       "      <td>1329339.5</td>\n",
       "    </tr>\n",
       "    <tr>\n",
       "      <th>Houston</th>\n",
       "      <td>579648.0</td>\n",
       "    </tr>\n",
       "    <tr>\n",
       "      <th>Los+Angeles</th>\n",
       "      <td>2590634.0</td>\n",
       "    </tr>\n",
       "    <tr>\n",
       "      <th>Miami</th>\n",
       "      <td>460775.0</td>\n",
       "    </tr>\n",
       "    <tr>\n",
       "      <th>New+York</th>\n",
       "      <td>11004693.0</td>\n",
       "    </tr>\n",
       "    <tr>\n",
       "      <th>Palo+Alto</th>\n",
       "      <td>3166218.0</td>\n",
       "    </tr>\n",
       "    <tr>\n",
       "      <th>Philadelphia</th>\n",
       "      <td>1161000.0</td>\n",
       "    </tr>\n",
       "    <tr>\n",
       "      <th>Phoenix</th>\n",
       "      <td>334716.5</td>\n",
       "    </tr>\n",
       "    <tr>\n",
       "      <th>Pittsburgh</th>\n",
       "      <td>347928.0</td>\n",
       "    </tr>\n",
       "    <tr>\n",
       "      <th>Portland</th>\n",
       "      <td>78195.5</td>\n",
       "    </tr>\n",
       "    <tr>\n",
       "      <th>San+Diego</th>\n",
       "      <td>944786.0</td>\n",
       "    </tr>\n",
       "    <tr>\n",
       "      <th>San+Francisco</th>\n",
       "      <td>6642111.5</td>\n",
       "    </tr>\n",
       "    <tr>\n",
       "      <th>Seattle</th>\n",
       "      <td>2113279.0</td>\n",
       "    </tr>\n",
       "  </tbody>\n",
       "</table>\n",
       "</div>"
      ],
      "text/plain": [
       "               parsed_salary\n",
       "city                        \n",
       "Atlanta            1620311.5\n",
       "Austin              676000.0\n",
       "Boston             5481887.5\n",
       "Chicago            4044631.5\n",
       "Dallas             1175500.0\n",
       "Denver             1329339.5\n",
       "Houston             579648.0\n",
       "Los+Angeles        2590634.0\n",
       "Miami               460775.0\n",
       "New+York          11004693.0\n",
       "Palo+Alto          3166218.0\n",
       "Philadelphia       1161000.0\n",
       "Phoenix             334716.5\n",
       "Pittsburgh          347928.0\n",
       "Portland             78195.5\n",
       "San+Diego           944786.0\n",
       "San+Francisco      6642111.5\n",
       "Seattle            2113279.0"
      ]
     },
     "execution_count": 179,
     "metadata": {},
     "output_type": "execute_result"
    }
   ],
   "source": [
    "df_job_posting.groupby(\"city\").sum()"
   ]
  },
  {
   "cell_type": "code",
   "execution_count": 180,
   "metadata": {
    "collapsed": false
   },
   "outputs": [
    {
     "data": {
      "text/plain": [
       "<matplotlib.axes._subplots.AxesSubplot at 0x7f750688a610>"
      ]
     },
     "execution_count": 180,
     "metadata": {},
     "output_type": "execute_result"
    },
    {
     "data": {
      "image/png": "[encoded data removed]",
      "text/plain": [
       "<matplotlib.figure.Figure at 0x7f750688a650>"
      ]
     },
     "metadata": {},
     "output_type": "display_data"
    }
   ],
   "source": [
    "#df_job_posting.hist(\"parsed_salary\", bins=15)\n",
    "fig = plt.figure(figsize=(20,6)) \n",
    "sns.distplot(df_job_posting[\"parsed_salary\"], rug=True, color='b')"
   ]
  },
  {
   "cell_type": "code",
   "execution_count": 181,
   "metadata": {
    "collapsed": false
   },
   "outputs": [
    {
     "data": {
      "image/png": "[encoded data removed]",
      "text/plain": [
       "<IPython.core.display.Image object>"
      ]
     },
     "execution_count": 181,
     "metadata": {},
     "output_type": "execute_result"
    }
   ],
   "source": [
    "from IPython.display import Image\n",
    "Image(filename='../assets/images/Jobs_location.png') "
   ]
  },
  {
   "cell_type": "code",
   "execution_count": 182,
   "metadata": {
    "collapsed": false
   },
   "outputs": [
    {
     "data": {
      "text/plain": [
       "city\n",
       "Atlanta           19\n",
       "Austin             7\n",
       "Boston            47\n",
       "Chicago           34\n",
       "Dallas            12\n",
       "Denver            17\n",
       "Houston            9\n",
       "Los+Angeles       23\n",
       "Miami              6\n",
       "New+York         102\n",
       "Palo+Alto         27\n",
       "Philadelphia      11\n",
       "Phoenix            6\n",
       "Pittsburgh         9\n",
       "Portland           1\n",
       "San+Diego         10\n",
       "San+Francisco     47\n",
       "Seattle           19\n",
       "Name: parsed_salary, dtype: int64"
      ]
     },
     "execution_count": 182,
     "metadata": {},
     "output_type": "execute_result"
    }
   ],
   "source": [
    "df_job_posting.groupby(\"city\")[\"parsed_salary\"].count()"
   ]
  },
  {
   "cell_type": "markdown",
   "metadata": {},
   "source": [
    "## Data Preprocessing\n",
    "\n",
    "1. Compute the median salary and create salary_flag(binominal) with High/Low as 1 or 0.\n",
    "2. Create a clean_title column.\n",
    "3. Streamline title column by parsing and identifying all relevant key words from title column.\n",
    "4. Leverage all skills in title column and create a column call skilled.\n",
    "5. Review all highest and lowest salaries and make a deterination as to keep or drop them.\n",
    "6. Calculate the baseline accuracy score\n",
    "7. Review newly created title column for its descriptive statistics and approproateness of values.\n",
    "8. Review newly created skills column for its descriptive statistics and approproateness of values.\n",
    "9. Create Augumented Feature Data Frame with Cleaned City, Salary_b, Cleaned Title and Skills Features.\n",
    "10. Remove City, Company, Salary, Title, Summary, parsed_salary columns from features list.\n",
    "11. Plot bar chart on City over salar_b\n",
    "12. Get dummy variabes on City, Title and Skills\n",
    "13. Create X and y for modeling.\n"
   ]
  },
  {
   "cell_type": "code",
   "execution_count": 183,
   "metadata": {
    "collapsed": false
   },
   "outputs": [],
   "source": [
    "median_sal = df_job_posting['parsed_salary'].median()\n",
    "df_job_posting['salary_flag'] = df_job_posting['parsed_salary']\\\n",
    "            .apply(lambda x: 1 if x >= median_sal else 0) "
   ]
  },
  {
   "cell_type": "code",
   "execution_count": 184,
   "metadata": {
    "collapsed": false
   },
   "outputs": [
    {
     "data": {
      "text/html": [
       "<div>\n",
       "<table border=\"1\" class=\"dataframe\">\n",
       "  <thead>\n",
       "    <tr style=\"text-align: right;\">\n",
       "      <th></th>\n",
       "      <th>city</th>\n",
       "      <th>company</th>\n",
       "      <th>salary</th>\n",
       "      <th>summary</th>\n",
       "      <th>title</th>\n",
       "      <th>parsed_salary</th>\n",
       "      <th>clean_city</th>\n",
       "      <th>salary_flag</th>\n",
       "      <th>clean_title</th>\n",
       "    </tr>\n",
       "  </thead>\n",
       "  <tbody>\n",
       "    <tr>\n",
       "      <th>0</th>\n",
       "      <td>Denver</td>\n",
       "      <td>Department Of The Interior</td>\n",
       "      <td>$76,341 - $99,243 a year</td>\n",
       "      <td>Would you like to join the more than 10,000 sc...</td>\n",
       "      <td>Statistician, GS-1350-12 (DEU-PERM-DS)</td>\n",
       "      <td>87792.0</td>\n",
       "      <td>Denver</td>\n",
       "      <td>0</td>\n",
       "      <td>Statistician, GS-1350-12 (DEU-PERM-DS)</td>\n",
       "    </tr>\n",
       "    <tr>\n",
       "      <th>1</th>\n",
       "      <td>Denver</td>\n",
       "      <td>Department Of The Interior</td>\n",
       "      <td>$71,012 - $99,243 a year</td>\n",
       "      <td>Investigate potential uses of geospatial data ...</td>\n",
       "      <td>Interdisciplinary Cartographer/Geographer - GS...</td>\n",
       "      <td>85127.5</td>\n",
       "      <td>Denver</td>\n",
       "      <td>0</td>\n",
       "      <td>Interdisciplinary Cartographer/Geographer - GS...</td>\n",
       "    </tr>\n",
       "    <tr>\n",
       "      <th>2</th>\n",
       "      <td>Denver</td>\n",
       "      <td>Mental Health Center of Denver</td>\n",
       "      <td>$70,000 - $80,000 a year</td>\n",
       "      <td>Advise the Data Developer with regard to creat...</td>\n",
       "      <td>Financial Data Scientist</td>\n",
       "      <td>75000.0</td>\n",
       "      <td>Denver</td>\n",
       "      <td>0</td>\n",
       "      <td>Financial Data Scientist</td>\n",
       "    </tr>\n",
       "    <tr>\n",
       "      <th>3</th>\n",
       "      <td>Denver</td>\n",
       "      <td>Denver Public Schools</td>\n",
       "      <td>$62,712 - $75,255 a year</td>\n",
       "      <td>Portal managers on student outcome data report...</td>\n",
       "      <td>SENIOR RESEARCH ANALYST</td>\n",
       "      <td>68983.5</td>\n",
       "      <td>Denver</td>\n",
       "      <td>0</td>\n",
       "      <td>SENIOR RESEARCH ANALYST</td>\n",
       "    </tr>\n",
       "    <tr>\n",
       "      <th>4</th>\n",
       "      <td>Denver</td>\n",
       "      <td>University of Colorado</td>\n",
       "      <td>$25,000 - $29,000 a year</td>\n",
       "      <td>Experience entering and manipulating data in a...</td>\n",
       "      <td>Animal Care I</td>\n",
       "      <td>27000.0</td>\n",
       "      <td>Denver</td>\n",
       "      <td>0</td>\n",
       "      <td>Animal Care I</td>\n",
       "    </tr>\n",
       "  </tbody>\n",
       "</table>\n",
       "</div>"
      ],
      "text/plain": [
       "     city                         company                    salary  \\\n",
       "0  Denver      Department Of The Interior  $76,341 - $99,243 a year   \n",
       "1  Denver      Department Of The Interior  $71,012 - $99,243 a year   \n",
       "2  Denver  Mental Health Center of Denver  $70,000 - $80,000 a year   \n",
       "3  Denver           Denver Public Schools  $62,712 - $75,255 a year   \n",
       "4  Denver          University of Colorado  $25,000 - $29,000 a year   \n",
       "\n",
       "                                             summary  \\\n",
       "0  Would you like to join the more than 10,000 sc...   \n",
       "1  Investigate potential uses of geospatial data ...   \n",
       "2  Advise the Data Developer with regard to creat...   \n",
       "3  Portal managers on student outcome data report...   \n",
       "4  Experience entering and manipulating data in a...   \n",
       "\n",
       "                                               title  parsed_salary  \\\n",
       "0             Statistician, GS-1350-12 (DEU-PERM-DS)        87792.0   \n",
       "1  Interdisciplinary Cartographer/Geographer - GS...        85127.5   \n",
       "2                           Financial Data Scientist        75000.0   \n",
       "3                            SENIOR RESEARCH ANALYST        68983.5   \n",
       "4                                      Animal Care I        27000.0   \n",
       "\n",
       "  clean_city  salary_flag                                        clean_title  \n",
       "0     Denver            0             Statistician, GS-1350-12 (DEU-PERM-DS)  \n",
       "1     Denver            0  Interdisciplinary Cartographer/Geographer - GS...  \n",
       "2     Denver            0                           Financial Data Scientist  \n",
       "3     Denver            0                            SENIOR RESEARCH ANALYST  \n",
       "4     Denver            0                                      Animal Care I  "
      ]
     },
     "execution_count": 184,
     "metadata": {},
     "output_type": "execute_result"
    }
   ],
   "source": [
    "df_job_posting[\"clean_title\"]=df_job_posting[\"title\"]\n",
    "df_job_posting.head()"
   ]
  },
  {
   "cell_type": "code",
   "execution_count": 185,
   "metadata": {
    "collapsed": false
   },
   "outputs": [],
   "source": [
    "# #!pip install stop-words\n",
    "# from stop_words import get_stop_words\n",
    "# stop_words = get_stop_words('english')\n",
    "\n",
    "# for row in df_job_posting[\"summary\"]:\n",
    "#     split_row = row.split()\n",
    "#     result_words  = [word for word in split_row if word.lower() not in stop_words]\n",
    "#     result = result + ' '.join(result_words)\n",
    "# result\n",
    "# from collections import Counter\n",
    "# word_counts = Counter(result)\n",
    "# for word, count in word_counts.most_common(1000):\n",
    "#     print word, count"
   ]
  },
  {
   "cell_type": "code",
   "execution_count": 186,
   "metadata": {
    "collapsed": false
   },
   "outputs": [],
   "source": [
    "# DO NOT remove rows for title that are not relevant\n",
    "# df_job_posting = df_job_posting[df_job_posting[\"title\"] !='Animal Care I'] # one row removed\n",
    "# df_job_posting = df_job_posting[df_job_posting[\"title\"] !='CNUP Assistant'] # one row removed\n",
    "# df_job_posting = df_job_posting[df_job_posting[\"title\"] !='A.I. Psychologist/Research Assistant'] # one row removed\n",
    "# df_job_posting = df_job_posting[df_job_posting[\"title\"] !='Cytometry Technician'] # one row removed\n",
    "# df_job_posting = df_job_posting[df_job_posting[\"title\"] !='School Business Manager and Human Resources (HR)'] # one row removed\n",
    "# df_job_posting = df_job_posting[df_job_posting[\"title\"] !='Account Management'] # one row removed\n",
    "# df_job_posting = df_job_posting[df_job_posting[\"title\"] !='Accountant, Associate, College of Medicine - Phoenix'] # one row removed\n",
    "# df_job_posting = df_job_posting[df_job_posting[\"title\"] !='Research Analyst for Tech Industry'] # one row removed\n",
    "# df_job_posting = df_job_posting[df_job_posting[\"title\"] !='Clinical Laboratory Assistant'] # one row removed\n",
    "# df_job_posting = df_job_posting[df_job_posting[\"title\"] !='Health Technician (Optometry)'] # one row removed\n",
    "# df_job_posting = df_job_posting[df_job_posting[\"title\"] !='Post-Doctoral Scholar-Employee: Analysis of omics data'] # one row removed\n",
    "# df_job_posting = df_job_posting[df_job_posting[\"title\"] !='Realty Specialist'] # one row removed\n",
    "# df_job_posting = df_job_posting[df_job_posting[\"title\"] !='Web Security Research Analyst'] # one row removed\n",
    "# df_job_posting = df_job_posting[df_job_posting[\"title\"] !='Real Estate / Title Research Analyst'] # one row removed\n",
    "# df_job_posting = df_job_posting[df_job_posting[\"title\"] !='Career Coach'] # one row removed\n",
    "# df_job_posting = df_job_posting[df_job_posting[\"title\"] !='Geologist GS-1350-07/09 (DEU - TERM - JG)'] # one row removed\n",
    "# df_job_posting = df_job_posting[df_job_posting[\"title\"] !='Career Coach'] # one row removed\n",
    "# df_job_posting = df_job_posting[df_job_posting[\"title\"] !='Medical Technologist'] # one row removed\n",
    "# df_job_posting = df_job_posting[df_job_posting[\"title\"] !='PRODUCT DEVELOPMENT SCIENTIST - Flavors'] # one row removed\n",
    "# df_job_posting = df_job_posting[df_job_posting[\"title\"] !='Systems Programmer'] # one row removed\n",
    "# df_job_posting = df_job_posting[df_job_posting[\"title\"] !='Clinical Research Scientist'] # one row removed\n",
    "# df_job_posting = df_job_posting[df_job_posting[\"title\"] !='Certifying Scientist / Toxicologist'] # one row removed\n",
    "# df_job_posting = df_job_posting[df_job_posting[\"title\"] !='Sr. Certifying Scientist / Toxicologist'] # one row removed\n",
    "# df_job_posting = df_job_posting[df_job_posting[\"title\"] !='Bioinformatics Postdoctoral Fellow'] # one row removed\n",
    "# df_job_posting = df_job_posting[df_job_posting[\"title\"] !='Certifying Scientist / Toxicologist'] # one row removed\n",
    "# df_job_posting = df_job_posting[df_job_posting[\"title\"] !='Sr. Certifying Scientist / Toxicologist'] # one row removed\n",
    "\n",
    "\n",
    "\n",
    "#df_job_posting[df_job_posting[\"title\"] =='Account Management']"
   ]
  },
  {
   "cell_type": "markdown",
   "metadata": {},
   "source": [
    "** Calculate the Baseline Accuracy **\n",
    "\n",
    "**`baseline_accuracy = majority_class_N / total_population`**"
   ]
  },
  {
   "cell_type": "code",
   "execution_count": 187,
   "metadata": {
    "collapsed": false
   },
   "outputs": [
    {
     "data": {
      "text/html": [
       "<div>\n",
       "<table border=\"1\" class=\"dataframe\">\n",
       "  <thead>\n",
       "    <tr style=\"text-align: right;\">\n",
       "      <th></th>\n",
       "      <th>city</th>\n",
       "      <th>company</th>\n",
       "      <th>salary</th>\n",
       "      <th>summary</th>\n",
       "      <th>title</th>\n",
       "      <th>parsed_salary</th>\n",
       "      <th>clean_city</th>\n",
       "      <th>clean_title</th>\n",
       "    </tr>\n",
       "    <tr>\n",
       "      <th>salary_flag</th>\n",
       "      <th></th>\n",
       "      <th></th>\n",
       "      <th></th>\n",
       "      <th></th>\n",
       "      <th></th>\n",
       "      <th></th>\n",
       "      <th></th>\n",
       "      <th></th>\n",
       "    </tr>\n",
       "  </thead>\n",
       "  <tbody>\n",
       "    <tr>\n",
       "      <th>0</th>\n",
       "      <td>197</td>\n",
       "      <td>197</td>\n",
       "      <td>197</td>\n",
       "      <td>197</td>\n",
       "      <td>197</td>\n",
       "      <td>197</td>\n",
       "      <td>197</td>\n",
       "      <td>197</td>\n",
       "    </tr>\n",
       "    <tr>\n",
       "      <th>1</th>\n",
       "      <td>209</td>\n",
       "      <td>209</td>\n",
       "      <td>209</td>\n",
       "      <td>209</td>\n",
       "      <td>209</td>\n",
       "      <td>209</td>\n",
       "      <td>209</td>\n",
       "      <td>209</td>\n",
       "    </tr>\n",
       "  </tbody>\n",
       "</table>\n",
       "</div>"
      ],
      "text/plain": [
       "             city  company  salary  summary  title  parsed_salary  clean_city  \\\n",
       "salary_flag                                                                     \n",
       "0             197      197     197      197    197            197         197   \n",
       "1             209      209     209      209    209            209         209   \n",
       "\n",
       "             clean_title  \n",
       "salary_flag               \n",
       "0                    197  \n",
       "1                    209  "
      ]
     },
     "execution_count": 187,
     "metadata": {},
     "output_type": "execute_result"
    }
   ],
   "source": [
    "df_job_posting.groupby(by=\"salary_flag\").count()"
   ]
  },
  {
   "cell_type": "code",
   "execution_count": 188,
   "metadata": {
    "collapsed": false
   },
   "outputs": [
    {
     "data": {
      "text/plain": [
       "0.51477832512315269"
      ]
     },
     "execution_count": 188,
     "metadata": {},
     "output_type": "execute_result"
    }
   ],
   "source": [
    "np.mean(df_job_posting[\"salary_flag\"])"
   ]
  },
  {
   "cell_type": "code",
   "execution_count": 189,
   "metadata": {
    "collapsed": false
   },
   "outputs": [
    {
     "data": {
      "text/plain": [
       "0.48522167487684731"
      ]
     },
     "execution_count": 189,
     "metadata": {},
     "output_type": "execute_result"
    }
   ],
   "source": [
    "baseline_accuracy = 1. - np.mean(df_job_posting[\"salary_flag\"])\n",
    "baseline_accuracy"
   ]
  },
  {
   "cell_type": "markdown",
   "metadata": {},
   "source": [
    "### Baseline Accuracy is set to 48.52%: \n",
    "** We calculated baseline accuracy based on formula above i.e. We first classified high or low salary based on median salary and then took the majority class over total population**"
   ]
  },
  {
   "cell_type": "markdown",
   "metadata": {},
   "source": [
    "**Below function will parse title column in to a streamlined few position/titles based on key word. Almost all job titles are labled in a a category few are labled as mics.**\n",
    "\n",
    "**I seek to leverage titles as a predictor in the model to classify whether based on certain keywords does salary falls in high/low category.**"
   ]
  },
  {
   "cell_type": "code",
   "execution_count": 190,
   "metadata": {
    "collapsed": false
   },
   "outputs": [],
   "source": [
    "def parse_title(x):\n",
    "    x = x.lower()\n",
    "    if 'vp ' in x or 'vice president' in x:\n",
    "        return 'Executive'\n",
    "    elif 'manager' in x or 'director' in x:\n",
    "        return 'Manager'\n",
    "    elif 'statistics' in x or 'statistician' in x or 'geographer' in x or 'statistical' in x:\n",
    "        return 'Statistician'\n",
    "    elif 'senior' in x or 'sr.' in x or 'analyst iv' in x or 'big data' in x:\n",
    "        return 'Senior'\n",
    "    elif 'data scientist' in x or 'data science' in x or 'scientist' in x or \\\n",
    "        'big data' in x or 'analytics' in x or 'python' in x or 'machine learning' in x\\\n",
    "        or 'full stack' in x or 'full - stack' in x:\n",
    "        return 'Data Scientist'\n",
    "    elif 'data engineer' in x or ' NLP ' in x or 'data architect' in x or 'architect' in x:\n",
    "        return 'Data Engineer'\n",
    "    elif 'devops' in x or 'dev ops' in x:\n",
    "        return 'Dev Ops'\n",
    "    elif 'data analyst' in x or 'research' in x or 'analyst' in x or\\\n",
    "         'database administ' in x or 'data analysis ' in x or 'data systems' in x or 'analysis' in x:\n",
    "        return 'Analyst'\n",
    "    elif 'software engineer' in x or 'java' in x or 'c++' in x or 'linux ' in x:\n",
    "        return 'Software Engineer'\n",
    "    elif 'officer' in x:\n",
    "        return 'Office'\n",
    "    elif 'technician' in x:\n",
    "        return 'Technician'\n",
    "    elif 'engineer' in x:\n",
    "        return 'Engineer'\n",
    "    elif 'technician' in x or 'specialist' in x or 'coordinator' in x:\n",
    "        return 'tech/spclst/crdntr'\n",
    "    elif 'jr.' in x or 'associate' in x or 'staff' in x:\n",
    "        return 'Junior'\n",
    "    else:\n",
    "        return 'Misc'\n",
    "\n",
    "df_job_posting[\"clean_title\"] = df_job_posting[\"title\"].map(parse_title)"
   ]
  },
  {
   "cell_type": "markdown",
   "metadata": {},
   "source": [
    "**Below function will parse title column and summary words in to a streamlined few skills based on key word. Keywords relevant to sought after skills are labeled.**\n",
    "\n",
    "**I seek to leverage skills as a predictor in the model to classify whether based on certain keywords does salary falls in high/low category.**"
   ]
  },
  {
   "cell_type": "code",
   "execution_count": 191,
   "metadata": {
    "collapsed": false
   },
   "outputs": [],
   "source": [
    "def parse_skills(x):\n",
    "    x = x.lower()\n",
    "    if 'machine learning' in x:\n",
    "        return 'Machine Learning'\n",
    "    elif 'big data' in x:\n",
    "        return 'Big Data'\n",
    "    elif 'full stack' in x or 'full - stack' in x:\n",
    "        return 'Full Stack'\n",
    "    elif 'deep learning' in x or ' NLP ' in x:\n",
    "        return 'Deep Learning-NLP'\n",
    "    elif 'scala' in x:\n",
    "        return 'Scala'\n",
    "    elif 'python' in x or ' r ' in x:\n",
    "        return 'Python-R'\n",
    "    elif 'predictive modeling' in x:\n",
    "        return 'Predictive Modeling'\n",
    "    elif 'business intelligence' in x or 'analytics' in x:\n",
    "        return 'Business Intelligence'\n",
    "    elif 'java' in x or 'c++' in x or 'linux ' in x:\n",
    "        return 'Java-C-Linux'\n",
    "    else:\n",
    "        return None\n",
    "\n",
    "df_job_posting[\"skills\"] = df_job_posting[\"title\"].map(parse_skills)"
   ]
  },
  {
   "cell_type": "code",
   "execution_count": 192,
   "metadata": {
    "collapsed": false
   },
   "outputs": [
    {
     "data": {
      "text/plain": [
       "100000.0"
      ]
     },
     "execution_count": 192,
     "metadata": {},
     "output_type": "execute_result"
    }
   ],
   "source": [
    "df_job_posting['parsed_salary'].median()"
   ]
  },
  {
   "cell_type": "code",
   "execution_count": 193,
   "metadata": {
    "collapsed": false
   },
   "outputs": [
    {
     "data": {
      "text/html": [
       "<div>\n",
       "<table border=\"1\" class=\"dataframe\">\n",
       "  <thead>\n",
       "    <tr style=\"text-align: right;\">\n",
       "      <th></th>\n",
       "      <th>parsed_salary</th>\n",
       "      <th>salary_flag</th>\n",
       "    </tr>\n",
       "    <tr>\n",
       "      <th>clean_title</th>\n",
       "      <th></th>\n",
       "      <th></th>\n",
       "    </tr>\n",
       "  </thead>\n",
       "  <tbody>\n",
       "    <tr>\n",
       "      <th>Analyst</th>\n",
       "      <td>79891.814103</td>\n",
       "      <td>0.205128</td>\n",
       "    </tr>\n",
       "    <tr>\n",
       "      <th>Data Engineer</th>\n",
       "      <td>115416.666667</td>\n",
       "      <td>0.666667</td>\n",
       "    </tr>\n",
       "    <tr>\n",
       "      <th>Data Scientist</th>\n",
       "      <td>121382.856000</td>\n",
       "      <td>0.704000</td>\n",
       "    </tr>\n",
       "    <tr>\n",
       "      <th>Dev Ops</th>\n",
       "      <td>125000.000000</td>\n",
       "      <td>0.500000</td>\n",
       "    </tr>\n",
       "    <tr>\n",
       "      <th>Engineer</th>\n",
       "      <td>138404.312500</td>\n",
       "      <td>0.875000</td>\n",
       "    </tr>\n",
       "    <tr>\n",
       "      <th>Executive</th>\n",
       "      <td>184687.500000</td>\n",
       "      <td>1.000000</td>\n",
       "    </tr>\n",
       "    <tr>\n",
       "      <th>Junior</th>\n",
       "      <td>55332.666667</td>\n",
       "      <td>0.000000</td>\n",
       "    </tr>\n",
       "    <tr>\n",
       "      <th>Manager</th>\n",
       "      <td>120701.736842</td>\n",
       "      <td>0.552632</td>\n",
       "    </tr>\n",
       "    <tr>\n",
       "      <th>Misc</th>\n",
       "      <td>58409.142857</td>\n",
       "      <td>0.071429</td>\n",
       "    </tr>\n",
       "    <tr>\n",
       "      <th>Office</th>\n",
       "      <td>76941.500000</td>\n",
       "      <td>0.000000</td>\n",
       "    </tr>\n",
       "    <tr>\n",
       "      <th>Senior</th>\n",
       "      <td>122048.340580</td>\n",
       "      <td>0.695652</td>\n",
       "    </tr>\n",
       "    <tr>\n",
       "      <th>Software Engineer</th>\n",
       "      <td>119825.666667</td>\n",
       "      <td>0.555556</td>\n",
       "    </tr>\n",
       "    <tr>\n",
       "      <th>Statistician</th>\n",
       "      <td>90100.403226</td>\n",
       "      <td>0.322581</td>\n",
       "    </tr>\n",
       "    <tr>\n",
       "      <th>Technician</th>\n",
       "      <td>56462.000000</td>\n",
       "      <td>0.000000</td>\n",
       "    </tr>\n",
       "    <tr>\n",
       "      <th>tech/spclst/crdntr</th>\n",
       "      <td>65394.100000</td>\n",
       "      <td>0.000000</td>\n",
       "    </tr>\n",
       "  </tbody>\n",
       "</table>\n",
       "</div>"
      ],
      "text/plain": [
       "                    parsed_salary  salary_flag\n",
       "clean_title                                   \n",
       "Analyst              79891.814103     0.205128\n",
       "Data Engineer       115416.666667     0.666667\n",
       "Data Scientist      121382.856000     0.704000\n",
       "Dev Ops             125000.000000     0.500000\n",
       "Engineer            138404.312500     0.875000\n",
       "Executive           184687.500000     1.000000\n",
       "Junior               55332.666667     0.000000\n",
       "Manager             120701.736842     0.552632\n",
       "Misc                 58409.142857     0.071429\n",
       "Office               76941.500000     0.000000\n",
       "Senior              122048.340580     0.695652\n",
       "Software Engineer   119825.666667     0.555556\n",
       "Statistician         90100.403226     0.322581\n",
       "Technician           56462.000000     0.000000\n",
       "tech/spclst/crdntr   65394.100000     0.000000"
      ]
     },
     "execution_count": 193,
     "metadata": {},
     "output_type": "execute_result"
    }
   ],
   "source": [
    "df_job_posting.groupby(\"clean_title\").mean()"
   ]
  },
  {
   "cell_type": "code",
   "execution_count": 194,
   "metadata": {
    "collapsed": false
   },
   "outputs": [
    {
     "data": {
      "text/html": [
       "<div>\n",
       "<table border=\"1\" class=\"dataframe\">\n",
       "  <thead>\n",
       "    <tr style=\"text-align: right;\">\n",
       "      <th></th>\n",
       "      <th>parsed_salary</th>\n",
       "      <th>salary_flag</th>\n",
       "    </tr>\n",
       "    <tr>\n",
       "      <th>skills</th>\n",
       "      <th></th>\n",
       "      <th></th>\n",
       "    </tr>\n",
       "  </thead>\n",
       "  <tbody>\n",
       "    <tr>\n",
       "      <th>Big Data</th>\n",
       "      <td>125000.000000</td>\n",
       "      <td>0.714286</td>\n",
       "    </tr>\n",
       "    <tr>\n",
       "      <th>Business Intelligence</th>\n",
       "      <td>159318.181818</td>\n",
       "      <td>1.000000</td>\n",
       "    </tr>\n",
       "    <tr>\n",
       "      <th>Deep Learning-NLP</th>\n",
       "      <td>140000.000000</td>\n",
       "      <td>1.000000</td>\n",
       "    </tr>\n",
       "    <tr>\n",
       "      <th>Full Stack</th>\n",
       "      <td>182500.000000</td>\n",
       "      <td>1.000000</td>\n",
       "    </tr>\n",
       "    <tr>\n",
       "      <th>Java-C-Linux</th>\n",
       "      <td>134061.571429</td>\n",
       "      <td>0.714286</td>\n",
       "    </tr>\n",
       "    <tr>\n",
       "      <th>Machine Learning</th>\n",
       "      <td>135508.940000</td>\n",
       "      <td>0.720000</td>\n",
       "    </tr>\n",
       "    <tr>\n",
       "      <th>Predictive Modeling</th>\n",
       "      <td>149166.666667</td>\n",
       "      <td>1.000000</td>\n",
       "    </tr>\n",
       "    <tr>\n",
       "      <th>Python-R</th>\n",
       "      <td>134000.000000</td>\n",
       "      <td>1.000000</td>\n",
       "    </tr>\n",
       "  </tbody>\n",
       "</table>\n",
       "</div>"
      ],
      "text/plain": [
       "                       parsed_salary  salary_flag\n",
       "skills                                           \n",
       "Big Data               125000.000000     0.714286\n",
       "Business Intelligence  159318.181818     1.000000\n",
       "Deep Learning-NLP      140000.000000     1.000000\n",
       "Full Stack             182500.000000     1.000000\n",
       "Java-C-Linux           134061.571429     0.714286\n",
       "Machine Learning       135508.940000     0.720000\n",
       "Predictive Modeling    149166.666667     1.000000\n",
       "Python-R               134000.000000     1.000000"
      ]
     },
     "execution_count": 194,
     "metadata": {},
     "output_type": "execute_result"
    }
   ],
   "source": [
    "df_job_posting.groupby(\"skills\").mean()"
   ]
  },
  {
   "cell_type": "code",
   "execution_count": 195,
   "metadata": {
    "collapsed": false
   },
   "outputs": [
    {
     "data": {
      "text/html": [
       "<div>\n",
       "<table border=\"1\" class=\"dataframe\">\n",
       "  <thead>\n",
       "    <tr style=\"text-align: right;\">\n",
       "      <th></th>\n",
       "      <th>parsed_salary</th>\n",
       "    </tr>\n",
       "    <tr>\n",
       "      <th>salary_flag</th>\n",
       "      <th></th>\n",
       "    </tr>\n",
       "  </thead>\n",
       "  <tbody>\n",
       "    <tr>\n",
       "      <th>0</th>\n",
       "      <td>65874.098985</td>\n",
       "    </tr>\n",
       "    <tr>\n",
       "      <th>1</th>\n",
       "      <td>147246.205742</td>\n",
       "    </tr>\n",
       "  </tbody>\n",
       "</table>\n",
       "</div>"
      ],
      "text/plain": [
       "             parsed_salary\n",
       "salary_flag               \n",
       "0             65874.098985\n",
       "1            147246.205742"
      ]
     },
     "execution_count": 195,
     "metadata": {},
     "output_type": "execute_result"
    }
   ],
   "source": [
    "df_job_posting.groupby(\"salary_flag\").mean()"
   ]
  },
  {
   "cell_type": "code",
   "execution_count": 196,
   "metadata": {
    "collapsed": false
   },
   "outputs": [
    {
     "data": {
      "text/html": [
       "<div>\n",
       "<table border=\"1\" class=\"dataframe\">\n",
       "  <thead>\n",
       "    <tr style=\"text-align: right;\">\n",
       "      <th></th>\n",
       "      <th>city</th>\n",
       "      <th>company</th>\n",
       "      <th>salary</th>\n",
       "      <th>summary</th>\n",
       "      <th>title</th>\n",
       "      <th>parsed_salary</th>\n",
       "      <th>clean_city</th>\n",
       "      <th>salary_flag</th>\n",
       "      <th>clean_title</th>\n",
       "      <th>skills</th>\n",
       "    </tr>\n",
       "  </thead>\n",
       "  <tbody>\n",
       "    <tr>\n",
       "      <th>0</th>\n",
       "      <td>Denver</td>\n",
       "      <td>Department Of The Interior</td>\n",
       "      <td>$76,341 - $99,243 a year</td>\n",
       "      <td>Would you like to join the more than 10,000 sc...</td>\n",
       "      <td>Statistician, GS-1350-12 (DEU-PERM-DS)</td>\n",
       "      <td>87792.0</td>\n",
       "      <td>Denver</td>\n",
       "      <td>0</td>\n",
       "      <td>Statistician</td>\n",
       "      <td>None</td>\n",
       "    </tr>\n",
       "    <tr>\n",
       "      <th>1</th>\n",
       "      <td>Denver</td>\n",
       "      <td>Department Of The Interior</td>\n",
       "      <td>$71,012 - $99,243 a year</td>\n",
       "      <td>Investigate potential uses of geospatial data ...</td>\n",
       "      <td>Interdisciplinary Cartographer/Geographer - GS...</td>\n",
       "      <td>85127.5</td>\n",
       "      <td>Denver</td>\n",
       "      <td>0</td>\n",
       "      <td>Statistician</td>\n",
       "      <td>None</td>\n",
       "    </tr>\n",
       "    <tr>\n",
       "      <th>2</th>\n",
       "      <td>Denver</td>\n",
       "      <td>Mental Health Center of Denver</td>\n",
       "      <td>$70,000 - $80,000 a year</td>\n",
       "      <td>Advise the Data Developer with regard to creat...</td>\n",
       "      <td>Financial Data Scientist</td>\n",
       "      <td>75000.0</td>\n",
       "      <td>Denver</td>\n",
       "      <td>0</td>\n",
       "      <td>Data Scientist</td>\n",
       "      <td>None</td>\n",
       "    </tr>\n",
       "    <tr>\n",
       "      <th>3</th>\n",
       "      <td>Denver</td>\n",
       "      <td>Denver Public Schools</td>\n",
       "      <td>$62,712 - $75,255 a year</td>\n",
       "      <td>Portal managers on student outcome data report...</td>\n",
       "      <td>SENIOR RESEARCH ANALYST</td>\n",
       "      <td>68983.5</td>\n",
       "      <td>Denver</td>\n",
       "      <td>0</td>\n",
       "      <td>Senior</td>\n",
       "      <td>None</td>\n",
       "    </tr>\n",
       "    <tr>\n",
       "      <th>4</th>\n",
       "      <td>Denver</td>\n",
       "      <td>University of Colorado</td>\n",
       "      <td>$25,000 - $29,000 a year</td>\n",
       "      <td>Experience entering and manipulating data in a...</td>\n",
       "      <td>Animal Care I</td>\n",
       "      <td>27000.0</td>\n",
       "      <td>Denver</td>\n",
       "      <td>0</td>\n",
       "      <td>Misc</td>\n",
       "      <td>None</td>\n",
       "    </tr>\n",
       "    <tr>\n",
       "      <th>5</th>\n",
       "      <td>Denver</td>\n",
       "      <td>Denver Health</td>\n",
       "      <td>$93,645 a year</td>\n",
       "      <td>Functions largely independently but reports to...</td>\n",
       "      <td>Assistant Research Scientist - RADARS</td>\n",
       "      <td>93645.0</td>\n",
       "      <td>Denver</td>\n",
       "      <td>0</td>\n",
       "      <td>Data Scientist</td>\n",
       "      <td>None</td>\n",
       "    </tr>\n",
       "    <tr>\n",
       "      <th>6</th>\n",
       "      <td>Denver</td>\n",
       "      <td>Denver Health</td>\n",
       "      <td>$66,654 a year</td>\n",
       "      <td>Assist research director, assistant research d...</td>\n",
       "      <td>Statistical Research Specialist</td>\n",
       "      <td>66654.0</td>\n",
       "      <td>Denver</td>\n",
       "      <td>0</td>\n",
       "      <td>Statistician</td>\n",
       "      <td>None</td>\n",
       "    </tr>\n",
       "    <tr>\n",
       "      <th>7</th>\n",
       "      <td>Denver</td>\n",
       "      <td>Denver Health</td>\n",
       "      <td>$66,654 a year</td>\n",
       "      <td>Assist research director, assistant research d...</td>\n",
       "      <td>Statistical Research Scientist - RADARS</td>\n",
       "      <td>66654.0</td>\n",
       "      <td>Denver</td>\n",
       "      <td>0</td>\n",
       "      <td>Statistician</td>\n",
       "      <td>None</td>\n",
       "    </tr>\n",
       "    <tr>\n",
       "      <th>8</th>\n",
       "      <td>Denver</td>\n",
       "      <td>University of Colorado</td>\n",
       "      <td>$65,000 - $90,000 a year</td>\n",
       "      <td>And effective working relationships with physi...</td>\n",
       "      <td>Regulatory &amp; Compliance Manager</td>\n",
       "      <td>77500.0</td>\n",
       "      <td>Denver</td>\n",
       "      <td>0</td>\n",
       "      <td>Manager</td>\n",
       "      <td>None</td>\n",
       "    </tr>\n",
       "    <tr>\n",
       "      <th>9</th>\n",
       "      <td>Denver</td>\n",
       "      <td>Computer Enterprises, Inc.</td>\n",
       "      <td>$130,000 a year</td>\n",
       "      <td>We are looking for a Software Engineer/Data Sc...</td>\n",
       "      <td>Software Engineer/Data Scientist</td>\n",
       "      <td>130000.0</td>\n",
       "      <td>Denver</td>\n",
       "      <td>1</td>\n",
       "      <td>Data Scientist</td>\n",
       "      <td>None</td>\n",
       "    </tr>\n",
       "  </tbody>\n",
       "</table>\n",
       "</div>"
      ],
      "text/plain": [
       "     city                         company                    salary  \\\n",
       "0  Denver      Department Of The Interior  $76,341 - $99,243 a year   \n",
       "1  Denver      Department Of The Interior  $71,012 - $99,243 a year   \n",
       "2  Denver  Mental Health Center of Denver  $70,000 - $80,000 a year   \n",
       "3  Denver           Denver Public Schools  $62,712 - $75,255 a year   \n",
       "4  Denver          University of Colorado  $25,000 - $29,000 a year   \n",
       "5  Denver                   Denver Health            $93,645 a year   \n",
       "6  Denver                   Denver Health            $66,654 a year   \n",
       "7  Denver                   Denver Health            $66,654 a year   \n",
       "8  Denver          University of Colorado  $65,000 - $90,000 a year   \n",
       "9  Denver      Computer Enterprises, Inc.           $130,000 a year   \n",
       "\n",
       "                                             summary  \\\n",
       "0  Would you like to join the more than 10,000 sc...   \n",
       "1  Investigate potential uses of geospatial data ...   \n",
       "2  Advise the Data Developer with regard to creat...   \n",
       "3  Portal managers on student outcome data report...   \n",
       "4  Experience entering and manipulating data in a...   \n",
       "5  Functions largely independently but reports to...   \n",
       "6  Assist research director, assistant research d...   \n",
       "7  Assist research director, assistant research d...   \n",
       "8  And effective working relationships with physi...   \n",
       "9  We are looking for a Software Engineer/Data Sc...   \n",
       "\n",
       "                                               title  parsed_salary  \\\n",
       "0             Statistician, GS-1350-12 (DEU-PERM-DS)        87792.0   \n",
       "1  Interdisciplinary Cartographer/Geographer - GS...        85127.5   \n",
       "2                           Financial Data Scientist        75000.0   \n",
       "3                            SENIOR RESEARCH ANALYST        68983.5   \n",
       "4                                      Animal Care I        27000.0   \n",
       "5              Assistant Research Scientist - RADARS        93645.0   \n",
       "6                    Statistical Research Specialist        66654.0   \n",
       "7            Statistical Research Scientist - RADARS        66654.0   \n",
       "8                    Regulatory & Compliance Manager        77500.0   \n",
       "9                   Software Engineer/Data Scientist       130000.0   \n",
       "\n",
       "  clean_city  salary_flag     clean_title skills  \n",
       "0     Denver            0    Statistician   None  \n",
       "1     Denver            0    Statistician   None  \n",
       "2     Denver            0  Data Scientist   None  \n",
       "3     Denver            0          Senior   None  \n",
       "4     Denver            0            Misc   None  \n",
       "5     Denver            0  Data Scientist   None  \n",
       "6     Denver            0    Statistician   None  \n",
       "7     Denver            0    Statistician   None  \n",
       "8     Denver            0         Manager   None  \n",
       "9     Denver            1  Data Scientist   None  "
      ]
     },
     "execution_count": 196,
     "metadata": {},
     "output_type": "execute_result"
    }
   ],
   "source": [
    "df_job_posting.head(10)"
   ]
  },
  {
   "cell_type": "code",
   "execution_count": 211,
   "metadata": {
    "collapsed": true
   },
   "outputs": [],
   "source": [
    "aug_features_df = df_job_posting.copy(deep=True)"
   ]
  },
  {
   "cell_type": "code",
   "execution_count": 212,
   "metadata": {
    "collapsed": false
   },
   "outputs": [
    {
     "data": {
      "text/html": [
       "<div>\n",
       "<table border=\"1\" class=\"dataframe\">\n",
       "  <thead>\n",
       "    <tr style=\"text-align: right;\">\n",
       "      <th></th>\n",
       "      <th>city</th>\n",
       "      <th>company</th>\n",
       "      <th>salary</th>\n",
       "      <th>summary</th>\n",
       "      <th>title</th>\n",
       "      <th>parsed_salary</th>\n",
       "      <th>clean_city</th>\n",
       "      <th>salary_flag</th>\n",
       "      <th>clean_title</th>\n",
       "      <th>skills</th>\n",
       "    </tr>\n",
       "  </thead>\n",
       "  <tbody>\n",
       "    <tr>\n",
       "      <th>0</th>\n",
       "      <td>Denver</td>\n",
       "      <td>Department Of The Interior</td>\n",
       "      <td>$76,341 - $99,243 a year</td>\n",
       "      <td>Would you like to join the more than 10,000 sc...</td>\n",
       "      <td>Statistician, GS-1350-12 (DEU-PERM-DS)</td>\n",
       "      <td>87792.0</td>\n",
       "      <td>Denver</td>\n",
       "      <td>0</td>\n",
       "      <td>Statistician</td>\n",
       "      <td>None</td>\n",
       "    </tr>\n",
       "    <tr>\n",
       "      <th>1</th>\n",
       "      <td>Denver</td>\n",
       "      <td>Department Of The Interior</td>\n",
       "      <td>$71,012 - $99,243 a year</td>\n",
       "      <td>Investigate potential uses of geospatial data ...</td>\n",
       "      <td>Interdisciplinary Cartographer/Geographer - GS...</td>\n",
       "      <td>85127.5</td>\n",
       "      <td>Denver</td>\n",
       "      <td>0</td>\n",
       "      <td>Statistician</td>\n",
       "      <td>None</td>\n",
       "    </tr>\n",
       "    <tr>\n",
       "      <th>2</th>\n",
       "      <td>Denver</td>\n",
       "      <td>Mental Health Center of Denver</td>\n",
       "      <td>$70,000 - $80,000 a year</td>\n",
       "      <td>Advise the Data Developer with regard to creat...</td>\n",
       "      <td>Financial Data Scientist</td>\n",
       "      <td>75000.0</td>\n",
       "      <td>Denver</td>\n",
       "      <td>0</td>\n",
       "      <td>Data Scientist</td>\n",
       "      <td>None</td>\n",
       "    </tr>\n",
       "    <tr>\n",
       "      <th>3</th>\n",
       "      <td>Denver</td>\n",
       "      <td>Denver Public Schools</td>\n",
       "      <td>$62,712 - $75,255 a year</td>\n",
       "      <td>Portal managers on student outcome data report...</td>\n",
       "      <td>SENIOR RESEARCH ANALYST</td>\n",
       "      <td>68983.5</td>\n",
       "      <td>Denver</td>\n",
       "      <td>0</td>\n",
       "      <td>Senior</td>\n",
       "      <td>None</td>\n",
       "    </tr>\n",
       "    <tr>\n",
       "      <th>4</th>\n",
       "      <td>Denver</td>\n",
       "      <td>University of Colorado</td>\n",
       "      <td>$25,000 - $29,000 a year</td>\n",
       "      <td>Experience entering and manipulating data in a...</td>\n",
       "      <td>Animal Care I</td>\n",
       "      <td>27000.0</td>\n",
       "      <td>Denver</td>\n",
       "      <td>0</td>\n",
       "      <td>Misc</td>\n",
       "      <td>None</td>\n",
       "    </tr>\n",
       "  </tbody>\n",
       "</table>\n",
       "</div>"
      ],
      "text/plain": [
       "     city                         company                    salary  \\\n",
       "0  Denver      Department Of The Interior  $76,341 - $99,243 a year   \n",
       "1  Denver      Department Of The Interior  $71,012 - $99,243 a year   \n",
       "2  Denver  Mental Health Center of Denver  $70,000 - $80,000 a year   \n",
       "3  Denver           Denver Public Schools  $62,712 - $75,255 a year   \n",
       "4  Denver          University of Colorado  $25,000 - $29,000 a year   \n",
       "\n",
       "                                             summary  \\\n",
       "0  Would you like to join the more than 10,000 sc...   \n",
       "1  Investigate potential uses of geospatial data ...   \n",
       "2  Advise the Data Developer with regard to creat...   \n",
       "3  Portal managers on student outcome data report...   \n",
       "4  Experience entering and manipulating data in a...   \n",
       "\n",
       "                                               title  parsed_salary  \\\n",
       "0             Statistician, GS-1350-12 (DEU-PERM-DS)        87792.0   \n",
       "1  Interdisciplinary Cartographer/Geographer - GS...        85127.5   \n",
       "2                           Financial Data Scientist        75000.0   \n",
       "3                            SENIOR RESEARCH ANALYST        68983.5   \n",
       "4                                      Animal Care I        27000.0   \n",
       "\n",
       "  clean_city  salary_flag     clean_title skills  \n",
       "0     Denver            0    Statistician   None  \n",
       "1     Denver            0    Statistician   None  \n",
       "2     Denver            0  Data Scientist   None  \n",
       "3     Denver            0          Senior   None  \n",
       "4     Denver            0            Misc   None  "
      ]
     },
     "execution_count": 212,
     "metadata": {},
     "output_type": "execute_result"
    }
   ],
   "source": [
    "aug_features_df.head(5)"
   ]
  },
  {
   "cell_type": "code",
   "execution_count": 213,
   "metadata": {
    "collapsed": false
   },
   "outputs": [
    {
     "data": {
      "text/html": [
       "<div>\n",
       "<table border=\"1\" class=\"dataframe\">\n",
       "  <thead>\n",
       "    <tr style=\"text-align: right;\">\n",
       "      <th></th>\n",
       "      <th>City</th>\n",
       "      <th>Salary_b</th>\n",
       "      <th>Title</th>\n",
       "      <th>Skill</th>\n",
       "    </tr>\n",
       "  </thead>\n",
       "  <tbody>\n",
       "    <tr>\n",
       "      <th>0</th>\n",
       "      <td>Denver</td>\n",
       "      <td>0</td>\n",
       "      <td>Statistician</td>\n",
       "      <td>None</td>\n",
       "    </tr>\n",
       "    <tr>\n",
       "      <th>1</th>\n",
       "      <td>Denver</td>\n",
       "      <td>0</td>\n",
       "      <td>Statistician</td>\n",
       "      <td>None</td>\n",
       "    </tr>\n",
       "    <tr>\n",
       "      <th>2</th>\n",
       "      <td>Denver</td>\n",
       "      <td>0</td>\n",
       "      <td>Data Scientist</td>\n",
       "      <td>None</td>\n",
       "    </tr>\n",
       "    <tr>\n",
       "      <th>3</th>\n",
       "      <td>Denver</td>\n",
       "      <td>0</td>\n",
       "      <td>Senior</td>\n",
       "      <td>None</td>\n",
       "    </tr>\n",
       "    <tr>\n",
       "      <th>4</th>\n",
       "      <td>Denver</td>\n",
       "      <td>0</td>\n",
       "      <td>Misc</td>\n",
       "      <td>None</td>\n",
       "    </tr>\n",
       "    <tr>\n",
       "      <th>5</th>\n",
       "      <td>Denver</td>\n",
       "      <td>0</td>\n",
       "      <td>Data Scientist</td>\n",
       "      <td>None</td>\n",
       "    </tr>\n",
       "    <tr>\n",
       "      <th>6</th>\n",
       "      <td>Denver</td>\n",
       "      <td>0</td>\n",
       "      <td>Statistician</td>\n",
       "      <td>None</td>\n",
       "    </tr>\n",
       "    <tr>\n",
       "      <th>7</th>\n",
       "      <td>Denver</td>\n",
       "      <td>0</td>\n",
       "      <td>Statistician</td>\n",
       "      <td>None</td>\n",
       "    </tr>\n",
       "    <tr>\n",
       "      <th>8</th>\n",
       "      <td>Denver</td>\n",
       "      <td>0</td>\n",
       "      <td>Manager</td>\n",
       "      <td>None</td>\n",
       "    </tr>\n",
       "    <tr>\n",
       "      <th>9</th>\n",
       "      <td>Denver</td>\n",
       "      <td>1</td>\n",
       "      <td>Data Scientist</td>\n",
       "      <td>None</td>\n",
       "    </tr>\n",
       "  </tbody>\n",
       "</table>\n",
       "</div>"
      ],
      "text/plain": [
       "     City  Salary_b           Title Skill\n",
       "0  Denver         0    Statistician  None\n",
       "1  Denver         0    Statistician  None\n",
       "2  Denver         0  Data Scientist  None\n",
       "3  Denver         0          Senior  None\n",
       "4  Denver         0            Misc  None\n",
       "5  Denver         0  Data Scientist  None\n",
       "6  Denver         0    Statistician  None\n",
       "7  Denver         0    Statistician  None\n",
       "8  Denver         0         Manager  None\n",
       "9  Denver         1  Data Scientist  None"
      ]
     },
     "execution_count": 213,
     "metadata": {},
     "output_type": "execute_result"
    }
   ],
   "source": [
    "del aug_features_df[\"city\"]\n",
    "del aug_features_df[\"company\"]\n",
    "del aug_features_df[\"salary\"]\n",
    "del aug_features_df[\"summary\"]\n",
    "del aug_features_df[\"title\"]\n",
    "del aug_features_df[\"parsed_salary\"]\n",
    "\n",
    "aug_features_df.columns = [\"City\",\"Salary_b\",\"Title\",\"Skill\"]\n",
    "aug_features_df.head(10)"
   ]
  },
  {
   "cell_type": "code",
   "execution_count": 214,
   "metadata": {
    "collapsed": false
   },
   "outputs": [
    {
     "data": {
      "text/plain": [
       "<matplotlib.axes._subplots.AxesSubplot at 0x7f75068d2c10>"
      ]
     },
     "execution_count": 214,
     "metadata": {},
     "output_type": "execute_result"
    },
    {
     "data": {
      "image/png": "[encoded data removed]",
      "text/plain": [
       "<matplotlib.figure.Figure at 0x7f7505ea6dd0>"
      ]
     },
     "metadata": {},
     "output_type": "display_data"
    }
   ],
   "source": [
    "fig = plt.figure(figsize=(20,6)) \n",
    "sns.barplot(x=\"City\",y=\"Salary_b\",data=aug_features_df,label=\"City\")"
   ]
  },
  {
   "cell_type": "code",
   "execution_count": 215,
   "metadata": {
    "collapsed": false
   },
   "outputs": [
    {
     "data": {
      "text/html": [
       "<div>\n",
       "<table border=\"1\" class=\"dataframe\">\n",
       "  <thead>\n",
       "    <tr style=\"text-align: right;\">\n",
       "      <th></th>\n",
       "      <th>Salary_b</th>\n",
       "      <th>City_Atlanta</th>\n",
       "      <th>City_Austin</th>\n",
       "      <th>City_Boston</th>\n",
       "      <th>City_Chicago</th>\n",
       "      <th>City_Dallas</th>\n",
       "      <th>City_Denver</th>\n",
       "      <th>City_Houston</th>\n",
       "      <th>City_Los Angeles</th>\n",
       "      <th>City_Miami</th>\n",
       "      <th>...</th>\n",
       "      <th>Title_Technician</th>\n",
       "      <th>Title_tech/spclst/crdntr</th>\n",
       "      <th>Skill_Big Data</th>\n",
       "      <th>Skill_Business Intelligence</th>\n",
       "      <th>Skill_Deep Learning-NLP</th>\n",
       "      <th>Skill_Full Stack</th>\n",
       "      <th>Skill_Java-C-Linux</th>\n",
       "      <th>Skill_Machine Learning</th>\n",
       "      <th>Skill_Predictive Modeling</th>\n",
       "      <th>Skill_Python-R</th>\n",
       "    </tr>\n",
       "  </thead>\n",
       "  <tbody>\n",
       "    <tr>\n",
       "      <th>0</th>\n",
       "      <td>0</td>\n",
       "      <td>0</td>\n",
       "      <td>0</td>\n",
       "      <td>0</td>\n",
       "      <td>0</td>\n",
       "      <td>0</td>\n",
       "      <td>1</td>\n",
       "      <td>0</td>\n",
       "      <td>0</td>\n",
       "      <td>0</td>\n",
       "      <td>...</td>\n",
       "      <td>0</td>\n",
       "      <td>0</td>\n",
       "      <td>0</td>\n",
       "      <td>0</td>\n",
       "      <td>0</td>\n",
       "      <td>0</td>\n",
       "      <td>0</td>\n",
       "      <td>0</td>\n",
       "      <td>0</td>\n",
       "      <td>0</td>\n",
       "    </tr>\n",
       "    <tr>\n",
       "      <th>1</th>\n",
       "      <td>0</td>\n",
       "      <td>0</td>\n",
       "      <td>0</td>\n",
       "      <td>0</td>\n",
       "      <td>0</td>\n",
       "      <td>0</td>\n",
       "      <td>1</td>\n",
       "      <td>0</td>\n",
       "      <td>0</td>\n",
       "      <td>0</td>\n",
       "      <td>...</td>\n",
       "      <td>0</td>\n",
       "      <td>0</td>\n",
       "      <td>0</td>\n",
       "      <td>0</td>\n",
       "      <td>0</td>\n",
       "      <td>0</td>\n",
       "      <td>0</td>\n",
       "      <td>0</td>\n",
       "      <td>0</td>\n",
       "      <td>0</td>\n",
       "    </tr>\n",
       "    <tr>\n",
       "      <th>2</th>\n",
       "      <td>0</td>\n",
       "      <td>0</td>\n",
       "      <td>0</td>\n",
       "      <td>0</td>\n",
       "      <td>0</td>\n",
       "      <td>0</td>\n",
       "      <td>1</td>\n",
       "      <td>0</td>\n",
       "      <td>0</td>\n",
       "      <td>0</td>\n",
       "      <td>...</td>\n",
       "      <td>0</td>\n",
       "      <td>0</td>\n",
       "      <td>0</td>\n",
       "      <td>0</td>\n",
       "      <td>0</td>\n",
       "      <td>0</td>\n",
       "      <td>0</td>\n",
       "      <td>0</td>\n",
       "      <td>0</td>\n",
       "      <td>0</td>\n",
       "    </tr>\n",
       "    <tr>\n",
       "      <th>3</th>\n",
       "      <td>0</td>\n",
       "      <td>0</td>\n",
       "      <td>0</td>\n",
       "      <td>0</td>\n",
       "      <td>0</td>\n",
       "      <td>0</td>\n",
       "      <td>1</td>\n",
       "      <td>0</td>\n",
       "      <td>0</td>\n",
       "      <td>0</td>\n",
       "      <td>...</td>\n",
       "      <td>0</td>\n",
       "      <td>0</td>\n",
       "      <td>0</td>\n",
       "      <td>0</td>\n",
       "      <td>0</td>\n",
       "      <td>0</td>\n",
       "      <td>0</td>\n",
       "      <td>0</td>\n",
       "      <td>0</td>\n",
       "      <td>0</td>\n",
       "    </tr>\n",
       "    <tr>\n",
       "      <th>4</th>\n",
       "      <td>0</td>\n",
       "      <td>0</td>\n",
       "      <td>0</td>\n",
       "      <td>0</td>\n",
       "      <td>0</td>\n",
       "      <td>0</td>\n",
       "      <td>1</td>\n",
       "      <td>0</td>\n",
       "      <td>0</td>\n",
       "      <td>0</td>\n",
       "      <td>...</td>\n",
       "      <td>0</td>\n",
       "      <td>0</td>\n",
       "      <td>0</td>\n",
       "      <td>0</td>\n",
       "      <td>0</td>\n",
       "      <td>0</td>\n",
       "      <td>0</td>\n",
       "      <td>0</td>\n",
       "      <td>0</td>\n",
       "      <td>0</td>\n",
       "    </tr>\n",
       "    <tr>\n",
       "      <th>5</th>\n",
       "      <td>0</td>\n",
       "      <td>0</td>\n",
       "      <td>0</td>\n",
       "      <td>0</td>\n",
       "      <td>0</td>\n",
       "      <td>0</td>\n",
       "      <td>1</td>\n",
       "      <td>0</td>\n",
       "      <td>0</td>\n",
       "      <td>0</td>\n",
       "      <td>...</td>\n",
       "      <td>0</td>\n",
       "      <td>0</td>\n",
       "      <td>0</td>\n",
       "      <td>0</td>\n",
       "      <td>0</td>\n",
       "      <td>0</td>\n",
       "      <td>0</td>\n",
       "      <td>0</td>\n",
       "      <td>0</td>\n",
       "      <td>0</td>\n",
       "    </tr>\n",
       "    <tr>\n",
       "      <th>6</th>\n",
       "      <td>0</td>\n",
       "      <td>0</td>\n",
       "      <td>0</td>\n",
       "      <td>0</td>\n",
       "      <td>0</td>\n",
       "      <td>0</td>\n",
       "      <td>1</td>\n",
       "      <td>0</td>\n",
       "      <td>0</td>\n",
       "      <td>0</td>\n",
       "      <td>...</td>\n",
       "      <td>0</td>\n",
       "      <td>0</td>\n",
       "      <td>0</td>\n",
       "      <td>0</td>\n",
       "      <td>0</td>\n",
       "      <td>0</td>\n",
       "      <td>0</td>\n",
       "      <td>0</td>\n",
       "      <td>0</td>\n",
       "      <td>0</td>\n",
       "    </tr>\n",
       "    <tr>\n",
       "      <th>7</th>\n",
       "      <td>0</td>\n",
       "      <td>0</td>\n",
       "      <td>0</td>\n",
       "      <td>0</td>\n",
       "      <td>0</td>\n",
       "      <td>0</td>\n",
       "      <td>1</td>\n",
       "      <td>0</td>\n",
       "      <td>0</td>\n",
       "      <td>0</td>\n",
       "      <td>...</td>\n",
       "      <td>0</td>\n",
       "      <td>0</td>\n",
       "      <td>0</td>\n",
       "      <td>0</td>\n",
       "      <td>0</td>\n",
       "      <td>0</td>\n",
       "      <td>0</td>\n",
       "      <td>0</td>\n",
       "      <td>0</td>\n",
       "      <td>0</td>\n",
       "    </tr>\n",
       "    <tr>\n",
       "      <th>8</th>\n",
       "      <td>0</td>\n",
       "      <td>0</td>\n",
       "      <td>0</td>\n",
       "      <td>0</td>\n",
       "      <td>0</td>\n",
       "      <td>0</td>\n",
       "      <td>1</td>\n",
       "      <td>0</td>\n",
       "      <td>0</td>\n",
       "      <td>0</td>\n",
       "      <td>...</td>\n",
       "      <td>0</td>\n",
       "      <td>0</td>\n",
       "      <td>0</td>\n",
       "      <td>0</td>\n",
       "      <td>0</td>\n",
       "      <td>0</td>\n",
       "      <td>0</td>\n",
       "      <td>0</td>\n",
       "      <td>0</td>\n",
       "      <td>0</td>\n",
       "    </tr>\n",
       "    <tr>\n",
       "      <th>9</th>\n",
       "      <td>1</td>\n",
       "      <td>0</td>\n",
       "      <td>0</td>\n",
       "      <td>0</td>\n",
       "      <td>0</td>\n",
       "      <td>0</td>\n",
       "      <td>1</td>\n",
       "      <td>0</td>\n",
       "      <td>0</td>\n",
       "      <td>0</td>\n",
       "      <td>...</td>\n",
       "      <td>0</td>\n",
       "      <td>0</td>\n",
       "      <td>0</td>\n",
       "      <td>0</td>\n",
       "      <td>0</td>\n",
       "      <td>0</td>\n",
       "      <td>0</td>\n",
       "      <td>0</td>\n",
       "      <td>0</td>\n",
       "      <td>0</td>\n",
       "    </tr>\n",
       "  </tbody>\n",
       "</table>\n",
       "<p>10 rows × 42 columns</p>\n",
       "</div>"
      ],
      "text/plain": [
       "   Salary_b  City_Atlanta  City_Austin  City_Boston  City_Chicago  \\\n",
       "0         0             0            0            0             0   \n",
       "1         0             0            0            0             0   \n",
       "2         0             0            0            0             0   \n",
       "3         0             0            0            0             0   \n",
       "4         0             0            0            0             0   \n",
       "5         0             0            0            0             0   \n",
       "6         0             0            0            0             0   \n",
       "7         0             0            0            0             0   \n",
       "8         0             0            0            0             0   \n",
       "9         1             0            0            0             0   \n",
       "\n",
       "   City_Dallas  City_Denver  City_Houston  City_Los Angeles  City_Miami  \\\n",
       "0            0            1             0                 0           0   \n",
       "1            0            1             0                 0           0   \n",
       "2            0            1             0                 0           0   \n",
       "3            0            1             0                 0           0   \n",
       "4            0            1             0                 0           0   \n",
       "5            0            1             0                 0           0   \n",
       "6            0            1             0                 0           0   \n",
       "7            0            1             0                 0           0   \n",
       "8            0            1             0                 0           0   \n",
       "9            0            1             0                 0           0   \n",
       "\n",
       "        ...        Title_Technician  Title_tech/spclst/crdntr  Skill_Big Data  \\\n",
       "0       ...                       0                         0               0   \n",
       "1       ...                       0                         0               0   \n",
       "2       ...                       0                         0               0   \n",
       "3       ...                       0                         0               0   \n",
       "4       ...                       0                         0               0   \n",
       "5       ...                       0                         0               0   \n",
       "6       ...                       0                         0               0   \n",
       "7       ...                       0                         0               0   \n",
       "8       ...                       0                         0               0   \n",
       "9       ...                       0                         0               0   \n",
       "\n",
       "   Skill_Business Intelligence  Skill_Deep Learning-NLP  Skill_Full Stack  \\\n",
       "0                            0                        0                 0   \n",
       "1                            0                        0                 0   \n",
       "2                            0                        0                 0   \n",
       "3                            0                        0                 0   \n",
       "4                            0                        0                 0   \n",
       "5                            0                        0                 0   \n",
       "6                            0                        0                 0   \n",
       "7                            0                        0                 0   \n",
       "8                            0                        0                 0   \n",
       "9                            0                        0                 0   \n",
       "\n",
       "   Skill_Java-C-Linux  Skill_Machine Learning  Skill_Predictive Modeling  \\\n",
       "0                   0                       0                          0   \n",
       "1                   0                       0                          0   \n",
       "2                   0                       0                          0   \n",
       "3                   0                       0                          0   \n",
       "4                   0                       0                          0   \n",
       "5                   0                       0                          0   \n",
       "6                   0                       0                          0   \n",
       "7                   0                       0                          0   \n",
       "8                   0                       0                          0   \n",
       "9                   0                       0                          0   \n",
       "\n",
       "   Skill_Python-R  \n",
       "0               0  \n",
       "1               0  \n",
       "2               0  \n",
       "3               0  \n",
       "4               0  \n",
       "5               0  \n",
       "6               0  \n",
       "7               0  \n",
       "8               0  \n",
       "9               0  \n",
       "\n",
       "[10 rows x 42 columns]"
      ]
     },
     "execution_count": 215,
     "metadata": {},
     "output_type": "execute_result"
    }
   ],
   "source": [
    "aug_features_df = pd.get_dummies(aug_features_df,prefix=None )\n",
    "aug_features_df.head(10)"
   ]
  },
  {
   "cell_type": "code",
   "execution_count": 216,
   "metadata": {
    "collapsed": false
   },
   "outputs": [
    {
     "data": {
      "text/plain": [
       "(406, 42)"
      ]
     },
     "execution_count": 216,
     "metadata": {},
     "output_type": "execute_result"
    }
   ],
   "source": [
    "aug_features_df.shape"
   ]
  },
  {
   "cell_type": "code",
   "execution_count": 217,
   "metadata": {
    "collapsed": false
   },
   "outputs": [
    {
     "name": "stdout",
     "output_type": "stream",
     "text": [
      "Total Features: Index([u'Salary_b', u'City_Atlanta', u'City_Austin', u'City_Boston',\n",
      "       u'City_Chicago', u'City_Dallas', u'City_Denver', u'City_Houston',\n",
      "       u'City_Los Angeles', u'City_Miami', u'City_New York', u'City_Palo Alto',\n",
      "       u'City_Philadelphia', u'City_Phoenix', u'City_Pittsburgh',\n",
      "       u'City_Portland', u'City_San Diego', u'City_San Francisco',\n",
      "       u'City_Seattle', u'Title_Analyst', u'Title_Data Engineer',\n",
      "       u'Title_Data Scientist', u'Title_Dev Ops', u'Title_Engineer',\n",
      "       u'Title_Executive', u'Title_Junior', u'Title_Manager', u'Title_Misc',\n",
      "       u'Title_Office', u'Title_Senior', u'Title_Software Engineer',\n",
      "       u'Title_Statistician', u'Title_Technician', u'Title_tech/spclst/crdntr',\n",
      "       u'Skill_Big Data', u'Skill_Business Intelligence',\n",
      "       u'Skill_Deep Learning-NLP', u'Skill_Full Stack', u'Skill_Java-C-Linux',\n",
      "       u'Skill_Machine Learning', u'Skill_Predictive Modeling',\n",
      "       u'Skill_Python-R'],\n",
      "      dtype='object')\n"
     ]
    }
   ],
   "source": [
    "print \"Total Features:\", aug_features_df.columns"
   ]
  },
  {
   "cell_type": "code",
   "execution_count": 218,
   "metadata": {
    "collapsed": false
   },
   "outputs": [],
   "source": [
    "y = aug_features_df[\"Salary_b\"]\n",
    "X = aug_features_df.drop(\"Salary_b\",axis=1)"
   ]
  },
  {
   "cell_type": "code",
   "execution_count": 219,
   "metadata": {
    "collapsed": false
   },
   "outputs": [
    {
     "name": "stdout",
     "output_type": "stream",
     "text": [
      "[0 0 0 0 0 0 0 0 0 1 0 0 0 0 1 0 1 1 1 0 0 1 0 0 1 1 0 1 1 1 1 0 1 1 1 1 0\n",
      " 0 0 0 0 0 0 0 1 1 1 1 0 1 1 0 0 1 1 1 1 1 0 1 1 1 1 1 0 1 1 0 1 1 1 1 1 1\n",
      " 0 1 0 1 1 0 0 0 0 0 0 0 0 0 0 0 1 0 1 0 0 0 0 0 0 1 1 0 1 1 1 1 1 1 0 0 1\n",
      " 0 1 0 1 0 1 1 0 0 1 0 0 1 1 1 1 1 0 0 1 0 1 0 0 1 1 0 0 0 1 0 0 0 0 1 0 0\n",
      " 0 1 1 1 1 1 1 1 1 1 1 1 0 1 1 1 1 1 0 1 0 1 1 1 1 0 1 0 0 0 0 0 0 1 1 1 0\n",
      " 0 0 0 0 1 0 1 0 1 0 0 0 1 0 1 0 1 0 0 0 1 0 1 0 0 0 0 1 0 0 0 0 0 1 1 0 0\n",
      " 1 1 0 0 1 0 0 0 0 1 1 0 1 0 0 0 0 0 0 0 0 0 1 1 1 1 0 0 1 1 1 0 1 1 0 1 0\n",
      " 1 1 1 1 1 1 1 0 1 0 1 0 1 1 1 1 0 0 1 1 0 1 1 0 1 1 1 1 0 0 1 1 1 1 1 1 1\n",
      " 1 1 1 0 0 0 0 0 1 0 0 0 0 0 1 1 0 1 0 1 0 1 1 1 1 1 1 1 0 0 0 0 0 0 0 0 0\n",
      " 0 0 0 0 0 0 0 1 1 1 1 1 1 1 1 1 1 0 1 1 1 1 1 1 1 1 0 1 0 1 1 1 1 1 1 1 1\n",
      " 0 1 0 0 1 1 1 0 1 1 1 1 0 1 1 1 1 1 0 0 1 0 0 0 0 0 1 1 1 0 0 0 0 0 0 0]\n"
     ]
    }
   ],
   "source": [
    "print  y.values"
   ]
  },
  {
   "cell_type": "code",
   "execution_count": 220,
   "metadata": {
    "collapsed": true
   },
   "outputs": [],
   "source": [
    "from sklearn import linear_model\n",
    "#from sklearn.metrics import mean_absolute_error, mean_squared_error, r2_score\n",
    "from sklearn.model_selection import train_test_split\n",
    "from sklearn.linear_model import LogisticRegression,Lasso\n",
    "from sklearn.preprocessing import StandardScaler\n",
    "from sklearn import metrics"
   ]
  },
  {
   "cell_type": "markdown",
   "metadata": {},
   "source": [
    "**In the MODEL below, I seek to leverage sklearn:\n",
    "\n",
    "1. I seek to split the data in a train and test data set (0.33), \n",
    "2. Standardize all features, \n",
    "3. Fit the train feature set and \n",
    "4. Perform standadization by centering and scaling (i.e. transform). Scaling the data improves the accuracy and is also necessary for proper regularization and parameter tuning. \n",
    "5. Then create a Logistic Regression with l1 i.e. Lasso penalty with strong regualrization \n",
    "6. Evalute the score.\n",
    "7. Review the coefficients and identify salient features\n",
    "8. Create a mapping of coefficient and features\n",
    "9. Write analysis on my finding\n",
    "10. Predict the probability and y\n",
    "11. Create a Data Frame for High/Low salary, y Actual and y Predicted.\n",
    "12. Get the accuracy score from sklearn\n",
    "13. Compare the baseline score to accuracy score from sklearn. \n",
    "14. Create a confusion matrix.\n",
    "15. Print a classification report \n",
    "16. Provide future recommendations.\n",
    "\n"
   ]
  },
  {
   "cell_type": "code",
   "execution_count": 221,
   "metadata": {
    "collapsed": false
   },
   "outputs": [],
   "source": [
    "X_train,X_test,y_train,y_test = train_test_split(X, y,test_size=0.33, random_state=42)\n",
    "\n",
    "scaler = StandardScaler()"
   ]
  },
  {
   "cell_type": "code",
   "execution_count": 222,
   "metadata": {
    "collapsed": false
   },
   "outputs": [
    {
     "data": {
      "text/plain": [
       "((272, 41), (134, 41), (272,), (134,))"
      ]
     },
     "execution_count": 222,
     "metadata": {},
     "output_type": "execute_result"
    }
   ],
   "source": [
    "X_train.shape, X_test.shape, y_train.shape, y_test.shape"
   ]
  },
  {
   "cell_type": "code",
   "execution_count": 223,
   "metadata": {
    "collapsed": true
   },
   "outputs": [],
   "source": [
    "scaler.fit(X_train)\n",
    "\n",
    "X_train = scaler.transform(X_train)\n",
    "X_test = scaler.transform(X_test)\n",
    "\n",
    "model = linear_model.LogisticRegression(penalty = 'l1', C=1)\n",
    "model.fit(X_train, y_train)\n",
    "\n",
    "train_score = model.score(X_train, y_train)\n",
    "test_score = model.score(X_test, y_test)\n",
    "\n",
    "#sns.regplot(y_test,model.predict(X_test) )"
   ]
  },
  {
   "cell_type": "code",
   "execution_count": 224,
   "metadata": {
    "collapsed": false
   },
   "outputs": [
    {
     "data": {
      "text/plain": [
       "(0.79411764705882348, 0.78358208955223885)"
      ]
     },
     "execution_count": 224,
     "metadata": {},
     "output_type": "execute_result"
    }
   ],
   "source": [
    "train_score,test_score"
   ]
  },
  {
   "cell_type": "code",
   "execution_count": null,
   "metadata": {
    "collapsed": true
   },
   "outputs": [],
   "source": []
  },
  {
   "cell_type": "markdown",
   "metadata": {},
   "source": [
    "** The train and test score in this model i.e. Lasso with C=1.0 are really good compare to Ridge penalty i.e. l1. This score suggest the mean accuracy of out model is really good for both train as well as test data.**\n",
    "\n",
    "** Let's now review coefficients for the selected features and see which ones have higher coef_ values that will help us predict the salary better. ** "
   ]
  },
  {
   "cell_type": "code",
   "execution_count": 225,
   "metadata": {
    "collapsed": false
   },
   "outputs": [
    {
     "name": "stdout",
     "output_type": "stream",
     "text": [
      "Positive top 13 coef_:                          feature     coef_\n",
      "34  Skill_Business Intelligence  0.723362\n",
      "16           City_San Francisco  0.534885\n",
      "2                   City_Boston  0.509778\n",
      "39    Skill_Predictive Modeling  0.448436\n",
      "40               Skill_Python-R  0.399371\n",
      "20         Title_Data Scientist  0.353068\n",
      "23              Title_Executive  0.223639\n",
      "28                 Title_Senior  0.207803\n",
      "36             Skill_Full Stack  0.200008\n",
      "22               Title_Engineer  0.162699\n",
      "37           Skill_Java-C-Linux  0.156813\n",
      "35      Skill_Deep Learning-NLP  0.155844\n",
      "7              City_Los Angeles  0.149585\n",
      "Negative top 10 coef_:                       feature     coef_\n",
      "32  Title_tech/spclst/crdntr -0.698705\n",
      "18             Title_Analyst -0.490916\n",
      "13           City_Pittsburgh -0.436439\n",
      "6               City_Houston -0.377586\n",
      "30        Title_Statistician -0.345143\n",
      "31          Title_Technician -0.269976\n",
      "26                Title_Misc -0.266688\n",
      "5                City_Denver -0.246889\n",
      "14             City_Portland -0.169815\n",
      "12              City_Phoenix -0.164113\n"
     ]
    }
   ],
   "source": [
    "feature_coef = []\n",
    "for i,k in enumerate(X.columns):\n",
    "    feature_coef.append([k, model.coef_[0][i]])\n",
    "df_coef=pd.DataFrame(feature_coef)\n",
    "df_coef.columns = [\"feature\",\"coef_\"]\n",
    "print \"Positive top 13 coef_: \", df_coef.sort_values([\"coef_\"],ascending=False).head(13)\n",
    "print \"Negative top 10 coef_: \", df_coef.sort_values([\"coef_\"]).head(10)"
   ]
  },
  {
   "cell_type": "markdown",
   "metadata": {},
   "source": [
    "Higher  coefficient values help predict **higher salary** classification and lowest/negative coefficient valueshelp predict ** lower salary** classification.\n",
    "\n",
    "It appears (based on coef_ values) **important features based on skills** are \n",
    "1) Business Intelligence skills, 2) Predictive Modeling, 3) Python-R 4) Full Stack, 5) Java 6) Deep Learning where as Machine learning has less significant coefficient.\n",
    "\n",
    "**important features based on job titles** are  \n",
    "1) Data Scientist, 2) Senior, 3) Engineer, and 4) Executives\n",
    "\n",
    "** important features based on location** are\n",
    "1) City of San Fransico, City of Boston, City of Palo Alto and City of Chicago\n",
    "\n",
    "Where as title such as **technician, coordinator, analyst and misc will result in classifying low salary. City of Houston, Pittsburgh, Denver and Atlanta will most likely classify in the low salary cateogry.**"
   ]
  },
  {
   "cell_type": "markdown",
   "metadata": {},
   "source": [
    "**Predict the prability and y for all features and then compare agains actual and then verify the accuracy score. Our Baseline Accuracy score is: 48.52% **"
   ]
  },
  {
   "cell_type": "code",
   "execution_count": 226,
   "metadata": {
    "collapsed": false
   },
   "outputs": [
    {
     "data": {
      "text/plain": [
       "array([[ 0.65013928,  0.34986072],\n",
       "       [ 0.65013928,  0.34986072],\n",
       "       [ 0.48037017,  0.51962983],\n",
       "       [ 0.51667011,  0.48332989],\n",
       "       [ 0.63209083,  0.36790917]])"
      ]
     },
     "execution_count": 226,
     "metadata": {},
     "output_type": "execute_result"
    }
   ],
   "source": [
    "probs = model.predict_proba(X)\n",
    "probs[:5]"
   ]
  },
  {
   "cell_type": "code",
   "execution_count": 227,
   "metadata": {
    "collapsed": false
   },
   "outputs": [
    {
     "data": {
      "text/plain": [
       "array([0, 0, 1, 0, 0])"
      ]
     },
     "execution_count": 227,
     "metadata": {},
     "output_type": "execute_result"
    }
   ],
   "source": [
    "predicted = model.predict(X)\n",
    "predicted[:5]"
   ]
  },
  {
   "cell_type": "code",
   "execution_count": 228,
   "metadata": {
    "collapsed": false
   },
   "outputs": [
    {
     "data": {
      "text/html": [
       "<div>\n",
       "<table border=\"1\" class=\"dataframe\">\n",
       "  <thead>\n",
       "    <tr style=\"text-align: right;\">\n",
       "      <th></th>\n",
       "      <th>High Sal</th>\n",
       "      <th>Low Sal</th>\n",
       "      <th>y_hat</th>\n",
       "      <th>y_true</th>\n",
       "    </tr>\n",
       "  </thead>\n",
       "  <tbody>\n",
       "    <tr>\n",
       "      <th>0</th>\n",
       "      <td>0.349861</td>\n",
       "      <td>0.650139</td>\n",
       "      <td>0</td>\n",
       "      <td>0</td>\n",
       "    </tr>\n",
       "    <tr>\n",
       "      <th>1</th>\n",
       "      <td>0.349861</td>\n",
       "      <td>0.650139</td>\n",
       "      <td>0</td>\n",
       "      <td>0</td>\n",
       "    </tr>\n",
       "    <tr>\n",
       "      <th>2</th>\n",
       "      <td>0.519630</td>\n",
       "      <td>0.480370</td>\n",
       "      <td>1</td>\n",
       "      <td>0</td>\n",
       "    </tr>\n",
       "    <tr>\n",
       "      <th>3</th>\n",
       "      <td>0.483330</td>\n",
       "      <td>0.516670</td>\n",
       "      <td>0</td>\n",
       "      <td>0</td>\n",
       "    </tr>\n",
       "    <tr>\n",
       "      <th>4</th>\n",
       "      <td>0.367909</td>\n",
       "      <td>0.632091</td>\n",
       "      <td>0</td>\n",
       "      <td>0</td>\n",
       "    </tr>\n",
       "    <tr>\n",
       "      <th>5</th>\n",
       "      <td>0.519630</td>\n",
       "      <td>0.480370</td>\n",
       "      <td>1</td>\n",
       "      <td>0</td>\n",
       "    </tr>\n",
       "    <tr>\n",
       "      <th>6</th>\n",
       "      <td>0.349861</td>\n",
       "      <td>0.650139</td>\n",
       "      <td>0</td>\n",
       "      <td>0</td>\n",
       "    </tr>\n",
       "    <tr>\n",
       "      <th>7</th>\n",
       "      <td>0.349861</td>\n",
       "      <td>0.650139</td>\n",
       "      <td>0</td>\n",
       "      <td>0</td>\n",
       "    </tr>\n",
       "    <tr>\n",
       "      <th>8</th>\n",
       "      <td>0.431801</td>\n",
       "      <td>0.568199</td>\n",
       "      <td>0</td>\n",
       "      <td>0</td>\n",
       "    </tr>\n",
       "    <tr>\n",
       "      <th>9</th>\n",
       "      <td>0.519630</td>\n",
       "      <td>0.480370</td>\n",
       "      <td>1</td>\n",
       "      <td>1</td>\n",
       "    </tr>\n",
       "  </tbody>\n",
       "</table>\n",
       "</div>"
      ],
      "text/plain": [
       "   High Sal   Low Sal  y_hat  y_true\n",
       "0  0.349861  0.650139      0       0\n",
       "1  0.349861  0.650139      0       0\n",
       "2  0.519630  0.480370      1       0\n",
       "3  0.483330  0.516670      0       0\n",
       "4  0.367909  0.632091      0       0\n",
       "5  0.519630  0.480370      1       0\n",
       "6  0.349861  0.650139      0       0\n",
       "7  0.349861  0.650139      0       0\n",
       "8  0.431801  0.568199      0       0\n",
       "9  0.519630  0.480370      1       1"
      ]
     },
     "execution_count": 228,
     "metadata": {},
     "output_type": "execute_result"
    }
   ],
   "source": [
    "sal_preds = pd.DataFrame({\n",
    "        'y_true':y,\n",
    "        'y_hat':predicted,\n",
    "        'High Sal':probs[:, 1],\n",
    "        'Low Sal':probs[:, 0]\n",
    "    })\n",
    "\n",
    "sal_preds.head(10)"
   ]
  },
  {
   "cell_type": "code",
   "execution_count": 229,
   "metadata": {
    "collapsed": false
   },
   "outputs": [
    {
     "data": {
      "text/plain": [
       "array([0, 0, 1, 0, 0, 1, 0, 0, 0, 1, 0, 0, 0, 0, 0, 0, 0, 1, 1, 1, 0, 1, 0,\n",
       "       0, 1, 1, 0, 1, 1, 1, 1, 1, 1, 1, 1, 1, 0, 1, 0, 0, 0, 0, 0, 1, 1, 1,\n",
       "       1, 1, 0, 0, 1, 1, 1, 1, 1, 1, 0, 1, 1, 1, 1, 1, 1, 1, 1, 1, 1, 1, 1,\n",
       "       1, 1, 1, 1, 1, 0, 1, 0, 1, 1, 0, 0, 0, 0, 0, 0, 0, 0, 0, 0, 0, 1, 0,\n",
       "       1, 0, 0, 1, 1, 1, 0, 0, 1, 0, 1, 1, 0, 1, 1, 1, 1, 0, 0, 0, 1, 0, 1,\n",
       "       0, 1, 1, 0, 1, 1, 1, 1, 1, 1, 0, 1, 1, 1, 0, 1, 0, 1, 0, 0, 1, 1, 0,\n",
       "       1, 0, 0, 1, 0, 1, 0, 1, 1, 0, 0, 1, 1, 1, 1, 0, 1, 1, 1, 1, 1, 1, 1,\n",
       "       1, 0, 1, 1, 1, 1, 1, 1, 1, 1, 0, 0, 0, 1, 1, 1, 0, 0, 0, 1, 0, 1, 1,\n",
       "       0, 0, 1, 1, 0, 0, 1, 1, 0, 0, 0, 0, 0, 1, 0, 1, 0, 1, 1, 0, 0, 1, 0,\n",
       "       1, 0, 0, 1, 1, 1, 1, 0, 0, 0, 0, 1, 0, 0, 1, 1, 1, 1, 0, 1, 0, 0, 0,\n",
       "       0, 0, 0, 0, 1, 1, 1, 0, 0, 1, 1, 0, 1, 1, 1, 0, 0, 1, 0, 0, 0, 1, 0,\n",
       "       0, 1, 1, 0, 1, 1, 1, 1, 1, 1, 1, 1, 1, 1, 1, 1, 1, 1, 1, 1, 1, 1, 1,\n",
       "       0, 1, 1, 1, 1, 1, 0, 1, 1, 0, 1, 1, 0, 1, 1, 1, 0, 1, 1, 1, 1, 1, 1,\n",
       "       0, 1, 0, 0, 0, 1, 0, 0, 0, 1, 1, 1, 1, 0, 1, 1, 1, 0, 1, 1, 1, 1, 0,\n",
       "       1, 1, 0, 1, 0, 0, 0, 0, 0, 0, 0, 0, 0, 0, 0, 0, 0, 1, 1, 1, 1, 1, 1,\n",
       "       1, 1, 1, 1, 1, 1, 1, 1, 1, 1, 1, 1, 1, 1, 1, 1, 1, 1, 1, 1, 1, 1, 1,\n",
       "       1, 1, 1, 1, 1, 1, 1, 1, 1, 1, 1, 1, 1, 1, 0, 1, 1, 1, 1, 1, 0, 1, 1,\n",
       "       0, 1, 0, 0, 0, 0, 0, 1, 0, 0, 0, 0, 0, 0, 0])"
      ]
     },
     "execution_count": 229,
     "metadata": {},
     "output_type": "execute_result"
    }
   ],
   "source": [
    "predicted"
   ]
  },
  {
   "cell_type": "code",
   "execution_count": 230,
   "metadata": {
    "collapsed": false
   },
   "outputs": [
    {
     "name": "stdout",
     "output_type": "stream",
     "text": [
      "0.768472906404\n"
     ]
    }
   ],
   "source": [
    "print metrics.accuracy_score(y_true=y, y_pred=predicted)"
   ]
  },
  {
   "cell_type": "markdown",
   "metadata": {
    "collapsed": false
   },
   "source": [
    "##  We have a really good accuracy score and that is higher than baseline accuracy. The Baselin Accuracy is 48.52% : and Accuracy score is 76.85%. This suggest the model predicts high/low salary with the accuracy of 76.85%"
   ]
  },
  {
   "cell_type": "markdown",
   "metadata": {},
   "source": [
    "#### Calculating the confusion matrix metrics for the model below and comparing that with sklearn confusion matrix"
   ]
  },
  {
   "cell_type": "code",
   "execution_count": 231,
   "metadata": {
    "collapsed": false
   },
   "outputs": [
    {
     "name": "stdout",
     "output_type": "stream",
     "text": [
      "181 66 131 28\n"
     ]
    }
   ],
   "source": [
    "tp = np.sum((y == 1) & (predicted == 1))\n",
    "fp = np.sum((y == 0) & (predicted == 1))\n",
    "tn = np.sum((y == 0) & (predicted == 0))\n",
    "fn = np.sum((y == 1) & (predicted == 0))\n",
    "print tp, fp, tn, fn"
   ]
  },
  {
   "cell_type": "code",
   "execution_count": 232,
   "metadata": {
    "collapsed": false
   },
   "outputs": [
    {
     "data": {
      "text/plain": [
       "array([[131,  66],\n",
       "       [ 28, 181]])"
      ]
     },
     "execution_count": 232,
     "metadata": {},
     "output_type": "execute_result"
    }
   ],
   "source": [
    "from sklearn.metrics import confusion_matrix\n",
    "confusion_matrix(y, predicted)"
   ]
  },
  {
   "cell_type": "code",
   "execution_count": 233,
   "metadata": {
    "collapsed": false
   },
   "outputs": [
    {
     "name": "stdout",
     "output_type": "stream",
     "text": [
      "             precision    recall  f1-score   support\n",
      "\n",
      "          0       0.82      0.66      0.74       197\n",
      "          1       0.73      0.87      0.79       209\n",
      "\n",
      "avg / total       0.78      0.77      0.77       406\n",
      "\n"
     ]
    }
   ],
   "source": [
    "from sklearn.metrics import classification_report\n",
    "\n",
    "print classification_report(y, predicted)"
   ]
  },
  {
   "cell_type": "markdown",
   "metadata": {},
   "source": [
    "##  Conclusion/Recommendation: Alghough the accuracy score is much higher than the baseline accuracy it has potential to improve even higher. May be addiing some feature from summary or external data may help improve better prediction.  "
   ]
  }
 ],
 "metadata": {
  "anaconda-cloud": {},
  "kernelspec": {
   "display_name": "Python 2",
   "language": "python",
   "name": "python2"
  },
  "language_info": {
   "codemirror_mode": {
    "name": "ipython",
    "version": 2
   },
   "file_extension": ".py",
   "mimetype": "text/x-python",
   "name": "python",
   "nbconvert_exporter": "python",
   "pygments_lexer": "ipython2",
   "version": "2.7.12"
  }
 },
 "nbformat": 4,
 "nbformat_minor": 0
}
